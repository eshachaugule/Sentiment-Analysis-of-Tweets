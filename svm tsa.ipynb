{
 "cells": [
  {
   "cell_type": "code",
   "execution_count": 76,
   "id": "24577b4c",
   "metadata": {},
   "outputs": [
    {
     "data": {
      "text/html": [
       "<div>\n",
       "<style scoped>\n",
       "    .dataframe tbody tr th:only-of-type {\n",
       "        vertical-align: middle;\n",
       "    }\n",
       "\n",
       "    .dataframe tbody tr th {\n",
       "        vertical-align: top;\n",
       "    }\n",
       "\n",
       "    .dataframe thead th {\n",
       "        text-align: right;\n",
       "    }\n",
       "</style>\n",
       "<table border=\"1\" class=\"dataframe\">\n",
       "  <thead>\n",
       "    <tr style=\"text-align: right;\">\n",
       "      <th></th>\n",
       "      <th>id</th>\n",
       "      <th>label</th>\n",
       "      <th>tweet</th>\n",
       "    </tr>\n",
       "  </thead>\n",
       "  <tbody>\n",
       "    <tr>\n",
       "      <th>0</th>\n",
       "      <td>1</td>\n",
       "      <td>0</td>\n",
       "      <td>@user when a father is dysfunctional and is s...</td>\n",
       "    </tr>\n",
       "    <tr>\n",
       "      <th>1</th>\n",
       "      <td>2</td>\n",
       "      <td>0</td>\n",
       "      <td>@user @user thanks for #lyft credit i can't us...</td>\n",
       "    </tr>\n",
       "    <tr>\n",
       "      <th>2</th>\n",
       "      <td>3</td>\n",
       "      <td>0</td>\n",
       "      <td>bihday your majesty</td>\n",
       "    </tr>\n",
       "    <tr>\n",
       "      <th>3</th>\n",
       "      <td>4</td>\n",
       "      <td>0</td>\n",
       "      <td>#model   i love u take with u all the time in ...</td>\n",
       "    </tr>\n",
       "    <tr>\n",
       "      <th>4</th>\n",
       "      <td>5</td>\n",
       "      <td>0</td>\n",
       "      <td>factsguide: society now    #motivation</td>\n",
       "    </tr>\n",
       "  </tbody>\n",
       "</table>\n",
       "</div>"
      ],
      "text/plain": [
       "   id  label                                              tweet\n",
       "0   1      0   @user when a father is dysfunctional and is s...\n",
       "1   2      0  @user @user thanks for #lyft credit i can't us...\n",
       "2   3      0                                bihday your majesty\n",
       "3   4      0  #model   i love u take with u all the time in ...\n",
       "4   5      0             factsguide: society now    #motivation"
      ]
     },
     "execution_count": 76,
     "metadata": {},
     "output_type": "execute_result"
    }
   ],
   "source": [
    "import nltk\n",
    "import pandas as pd\n",
    "import matplotlib.pyplot as plt\n",
    "import re\n",
    "from sklearn.feature_extraction.text import TfidfVectorizer\n",
    "import string\n",
    "data = pd.read_csv(\"tsa_train.csv\")\n",
    "new = pd.read_csv(\"tsa_test.csv\")\n",
    "data.head()"
   ]
  },
  {
   "cell_type": "code",
   "execution_count": 77,
   "id": "92b2183e",
   "metadata": {},
   "outputs": [
    {
     "data": {
      "text/plain": [
       "(2077, 3)"
      ]
     },
     "execution_count": 77,
     "metadata": {},
     "output_type": "execute_result"
    }
   ],
   "source": [
    "data.shape"
   ]
  },
  {
   "cell_type": "code",
   "execution_count": 78,
   "id": "8ad4dff3",
   "metadata": {},
   "outputs": [
    {
     "data": {
      "text/html": [
       "<div>\n",
       "<style scoped>\n",
       "    .dataframe tbody tr th:only-of-type {\n",
       "        vertical-align: middle;\n",
       "    }\n",
       "\n",
       "    .dataframe tbody tr th {\n",
       "        vertical-align: top;\n",
       "    }\n",
       "\n",
       "    .dataframe thead th {\n",
       "        text-align: right;\n",
       "    }\n",
       "</style>\n",
       "<table border=\"1\" class=\"dataframe\">\n",
       "  <thead>\n",
       "    <tr style=\"text-align: right;\">\n",
       "      <th></th>\n",
       "      <th>id</th>\n",
       "      <th>label</th>\n",
       "      <th>tweet</th>\n",
       "    </tr>\n",
       "  </thead>\n",
       "  <tbody>\n",
       "    <tr>\n",
       "      <th>0</th>\n",
       "      <td>1</td>\n",
       "      <td>0</td>\n",
       "      <td>@user when a father is dysfunctional and is s...</td>\n",
       "    </tr>\n",
       "    <tr>\n",
       "      <th>1</th>\n",
       "      <td>2</td>\n",
       "      <td>0</td>\n",
       "      <td>@user @user thanks for #lyft credit i can't us...</td>\n",
       "    </tr>\n",
       "    <tr>\n",
       "      <th>2</th>\n",
       "      <td>3</td>\n",
       "      <td>0</td>\n",
       "      <td>bihday your majesty</td>\n",
       "    </tr>\n",
       "    <tr>\n",
       "      <th>3</th>\n",
       "      <td>4</td>\n",
       "      <td>0</td>\n",
       "      <td>#model   i love u take with u all the time in ...</td>\n",
       "    </tr>\n",
       "    <tr>\n",
       "      <th>4</th>\n",
       "      <td>5</td>\n",
       "      <td>0</td>\n",
       "      <td>factsguide: society now    #motivation</td>\n",
       "    </tr>\n",
       "  </tbody>\n",
       "</table>\n",
       "</div>"
      ],
      "text/plain": [
       "   id  label                                              tweet\n",
       "0   1      0   @user when a father is dysfunctional and is s...\n",
       "1   2      0  @user @user thanks for #lyft credit i can't us...\n",
       "2   3      0                                bihday your majesty\n",
       "3   4      0  #model   i love u take with u all the time in ...\n",
       "4   5      0             factsguide: society now    #motivation"
      ]
     },
     "execution_count": 78,
     "metadata": {},
     "output_type": "execute_result"
    }
   ],
   "source": [
    "data.head()"
   ]
  },
  {
   "cell_type": "code",
   "execution_count": 79,
   "id": "74ed92fa",
   "metadata": {},
   "outputs": [
    {
     "data": {
      "text/plain": [
       "0    1928\n",
       "1     149\n",
       "Name: label, dtype: int64"
      ]
     },
     "execution_count": 79,
     "metadata": {},
     "output_type": "execute_result"
    }
   ],
   "source": [
    "data['label'].value_counts()"
   ]
  },
  {
   "cell_type": "markdown",
   "id": "d73dc6b0",
   "metadata": {},
   "source": [
    "# Preprocessing Data "
   ]
  },
  {
   "cell_type": "code",
   "execution_count": 80,
   "id": "4bbda957",
   "metadata": {},
   "outputs": [],
   "source": [
    "stopwords = nltk.corpus.stopwords.words('english')\n",
    "ps = nltk.PorterStemmer() #\n",
    "\n",
    "def count_punct(text):\n",
    "    count = sum([1 for char in text if char in string.punctuation])\n",
    "    return round(count/(len(text) - text.count(\" \")), 3)*100\n",
    "\n",
    "data['body_len'] = data['tweet'].apply(lambda x: len(x) - x.count(\" \"))\n",
    "data['punct%'] = data['tweet'].apply(lambda x: count_punct(x))\n",
    "\n",
    "def clean_text(text):\n",
    "    text = \"\".join([word.lower() for word in text if word not in string.punctuation])\n",
    "    tokens = re.split('\\\\W+', text)\n",
    "    text = [ps.stem(word) for word in tokens if word not in stopwords]\n",
    "    return text"
   ]
  },
  {
   "cell_type": "markdown",
   "id": "7922e056",
   "metadata": {},
   "source": [
    "# Split into train-test"
   ]
  },
  {
   "cell_type": "code",
   "execution_count": 81,
   "id": "66f5cb3b",
   "metadata": {},
   "outputs": [],
   "source": [
    "from sklearn.model_selection import train_test_split\n",
    "X=data[['tweet', 'body_len', 'punct%']]\n",
    "y=data['label']\n",
    "X_train, X_test, y_train, y_test = train_test_split(X, y, test_size=0.20, random_state = 0)"
   ]
  },
  {
   "cell_type": "code",
   "execution_count": 82,
   "id": "17c18a55",
   "metadata": {},
   "outputs": [],
   "source": [
    "from sklearn.model_selection import train_test_split\n",
    "X=data[['tweet', 'body_len', 'punct%']]\n",
    "y=data['label']\n",
    "X_train, X_test, y_train, y_test = train_test_split(X, y, test_size=0.20, random_state = 0)"
   ]
  },
  {
   "cell_type": "markdown",
   "id": "ed66d5f4",
   "metadata": {},
   "source": [
    "# Vectorise Text"
   ]
  },
  {
   "cell_type": "code",
   "execution_count": 83,
   "id": "fa78c20f",
   "metadata": {},
   "outputs": [
    {
     "data": {
      "text/html": [
       "<div>\n",
       "<style scoped>\n",
       "    .dataframe tbody tr th:only-of-type {\n",
       "        vertical-align: middle;\n",
       "    }\n",
       "\n",
       "    .dataframe tbody tr th {\n",
       "        vertical-align: top;\n",
       "    }\n",
       "\n",
       "    .dataframe thead th {\n",
       "        text-align: right;\n",
       "    }\n",
       "</style>\n",
       "<table border=\"1\" class=\"dataframe\">\n",
       "  <thead>\n",
       "    <tr style=\"text-align: right;\">\n",
       "      <th></th>\n",
       "      <th>body_len</th>\n",
       "      <th>punct%</th>\n",
       "      <th>0</th>\n",
       "      <th>1</th>\n",
       "      <th>2</th>\n",
       "      <th>3</th>\n",
       "      <th>4</th>\n",
       "      <th>5</th>\n",
       "      <th>6</th>\n",
       "      <th>7</th>\n",
       "      <th>...</th>\n",
       "      <th>5117</th>\n",
       "      <th>5118</th>\n",
       "      <th>5119</th>\n",
       "      <th>5120</th>\n",
       "      <th>5121</th>\n",
       "      <th>5122</th>\n",
       "      <th>5123</th>\n",
       "      <th>5124</th>\n",
       "      <th>5125</th>\n",
       "      <th>5126</th>\n",
       "    </tr>\n",
       "  </thead>\n",
       "  <tbody>\n",
       "    <tr>\n",
       "      <th>0</th>\n",
       "      <td>51</td>\n",
       "      <td>5.9</td>\n",
       "      <td>0.109255</td>\n",
       "      <td>0.0</td>\n",
       "      <td>0.0</td>\n",
       "      <td>0.0</td>\n",
       "      <td>0.0</td>\n",
       "      <td>0.0</td>\n",
       "      <td>0.0</td>\n",
       "      <td>0.0</td>\n",
       "      <td>...</td>\n",
       "      <td>0.0</td>\n",
       "      <td>0.0</td>\n",
       "      <td>0.0</td>\n",
       "      <td>0.0</td>\n",
       "      <td>0.0</td>\n",
       "      <td>0.0</td>\n",
       "      <td>0.0</td>\n",
       "      <td>0.0</td>\n",
       "      <td>0.762025</td>\n",
       "      <td>0.0</td>\n",
       "    </tr>\n",
       "    <tr>\n",
       "      <th>1</th>\n",
       "      <td>58</td>\n",
       "      <td>5.2</td>\n",
       "      <td>0.083327</td>\n",
       "      <td>0.0</td>\n",
       "      <td>0.0</td>\n",
       "      <td>0.0</td>\n",
       "      <td>0.0</td>\n",
       "      <td>0.0</td>\n",
       "      <td>0.0</td>\n",
       "      <td>0.0</td>\n",
       "      <td>...</td>\n",
       "      <td>0.0</td>\n",
       "      <td>0.0</td>\n",
       "      <td>0.0</td>\n",
       "      <td>0.0</td>\n",
       "      <td>0.0</td>\n",
       "      <td>0.0</td>\n",
       "      <td>0.0</td>\n",
       "      <td>0.0</td>\n",
       "      <td>0.000000</td>\n",
       "      <td>0.0</td>\n",
       "    </tr>\n",
       "    <tr>\n",
       "      <th>2</th>\n",
       "      <td>61</td>\n",
       "      <td>9.8</td>\n",
       "      <td>0.063664</td>\n",
       "      <td>0.0</td>\n",
       "      <td>0.0</td>\n",
       "      <td>0.0</td>\n",
       "      <td>0.0</td>\n",
       "      <td>0.0</td>\n",
       "      <td>0.0</td>\n",
       "      <td>0.0</td>\n",
       "      <td>...</td>\n",
       "      <td>0.0</td>\n",
       "      <td>0.0</td>\n",
       "      <td>0.0</td>\n",
       "      <td>0.0</td>\n",
       "      <td>0.0</td>\n",
       "      <td>0.0</td>\n",
       "      <td>0.0</td>\n",
       "      <td>0.0</td>\n",
       "      <td>0.000000</td>\n",
       "      <td>0.0</td>\n",
       "    </tr>\n",
       "    <tr>\n",
       "      <th>3</th>\n",
       "      <td>48</td>\n",
       "      <td>14.6</td>\n",
       "      <td>0.063740</td>\n",
       "      <td>0.0</td>\n",
       "      <td>0.0</td>\n",
       "      <td>0.0</td>\n",
       "      <td>0.0</td>\n",
       "      <td>0.0</td>\n",
       "      <td>0.0</td>\n",
       "      <td>0.0</td>\n",
       "      <td>...</td>\n",
       "      <td>0.0</td>\n",
       "      <td>0.0</td>\n",
       "      <td>0.0</td>\n",
       "      <td>0.0</td>\n",
       "      <td>0.0</td>\n",
       "      <td>0.0</td>\n",
       "      <td>0.0</td>\n",
       "      <td>0.0</td>\n",
       "      <td>0.000000</td>\n",
       "      <td>0.0</td>\n",
       "    </tr>\n",
       "    <tr>\n",
       "      <th>4</th>\n",
       "      <td>31</td>\n",
       "      <td>9.7</td>\n",
       "      <td>0.110597</td>\n",
       "      <td>0.0</td>\n",
       "      <td>0.0</td>\n",
       "      <td>0.0</td>\n",
       "      <td>0.0</td>\n",
       "      <td>0.0</td>\n",
       "      <td>0.0</td>\n",
       "      <td>0.0</td>\n",
       "      <td>...</td>\n",
       "      <td>0.0</td>\n",
       "      <td>0.0</td>\n",
       "      <td>0.0</td>\n",
       "      <td>0.0</td>\n",
       "      <td>0.0</td>\n",
       "      <td>0.0</td>\n",
       "      <td>0.0</td>\n",
       "      <td>0.0</td>\n",
       "      <td>0.000000</td>\n",
       "      <td>0.0</td>\n",
       "    </tr>\n",
       "  </tbody>\n",
       "</table>\n",
       "<p>5 rows × 5129 columns</p>\n",
       "</div>"
      ],
      "text/plain": [
       "   body_len  punct%         0    1    2    3    4    5    6    7  ...  5117  \\\n",
       "0        51     5.9  0.109255  0.0  0.0  0.0  0.0  0.0  0.0  0.0  ...   0.0   \n",
       "1        58     5.2  0.083327  0.0  0.0  0.0  0.0  0.0  0.0  0.0  ...   0.0   \n",
       "2        61     9.8  0.063664  0.0  0.0  0.0  0.0  0.0  0.0  0.0  ...   0.0   \n",
       "3        48    14.6  0.063740  0.0  0.0  0.0  0.0  0.0  0.0  0.0  ...   0.0   \n",
       "4        31     9.7  0.110597  0.0  0.0  0.0  0.0  0.0  0.0  0.0  ...   0.0   \n",
       "\n",
       "   5118  5119  5120  5121  5122  5123  5124      5125  5126  \n",
       "0   0.0   0.0   0.0   0.0   0.0   0.0   0.0  0.762025   0.0  \n",
       "1   0.0   0.0   0.0   0.0   0.0   0.0   0.0  0.000000   0.0  \n",
       "2   0.0   0.0   0.0   0.0   0.0   0.0   0.0  0.000000   0.0  \n",
       "3   0.0   0.0   0.0   0.0   0.0   0.0   0.0  0.000000   0.0  \n",
       "4   0.0   0.0   0.0   0.0   0.0   0.0   0.0  0.000000   0.0  \n",
       "\n",
       "[5 rows x 5129 columns]"
      ]
     },
     "execution_count": 83,
     "metadata": {},
     "output_type": "execute_result"
    }
   ],
   "source": [
    "tfidf_vect = TfidfVectorizer(analyzer=clean_text)\n",
    "tfidf_vect_fit = tfidf_vect.fit(X_train['tweet'])\n",
    "\n",
    "tfidf_train = tfidf_vect_fit.transform(X_train['tweet'])\n",
    "tfidf_test = tfidf_vect_fit.transform(X_test['tweet'])\n",
    "\n",
    "X_train_vect = pd.concat([X_train[['body_len', 'punct%']].reset_index(drop=True), \n",
    "           pd.DataFrame(tfidf_train.toarray())], axis=1)\n",
    "X_test_vect = pd.concat([X_test[['body_len', 'punct%']].reset_index(drop=True), \n",
    "           pd.DataFrame(tfidf_test.toarray())], axis=1)\n",
    "\n",
    "X_train_vect.head()"
   ]
  },
  {
   "cell_type": "markdown",
   "id": "5b62b18c",
   "metadata": {},
   "source": [
    "# Final Evaluation of models"
   ]
  },
  {
   "cell_type": "code",
   "execution_count": 84,
   "id": "4adfcbb5",
   "metadata": {},
   "outputs": [],
   "source": [
    "y = data['tweet']"
   ]
  },
  {
   "cell_type": "code",
   "execution_count": 85,
   "id": "c801eeac",
   "metadata": {},
   "outputs": [],
   "source": [
    "from collections import Counter\n",
    "c=Counter(y)"
   ]
  },
  {
   "cell_type": "code",
   "execution_count": 86,
   "id": "c0c2a511",
   "metadata": {},
   "outputs": [
    {
     "data": {
      "text/plain": [
       "Counter({' @user when a father is dysfunctional and is so selfish he drags his kids into his dysfunction.   #run': 1,\n",
       "         \"@user @user thanks for #lyft credit i can't use cause they don't offer wheelchair vans in pdx.    #disapointed #getthanked\": 1,\n",
       "         '  bihday your majesty': 1,\n",
       "         '#model   i love u take with u all the time in urð\\x9f\\x93±!!! ð\\x9f\\x98\\x99ð\\x9f\\x98\\x8eð\\x9f\\x91\\x84ð\\x9f\\x91\\x85ð\\x9f\\x92¦ð\\x9f\\x92¦ð\\x9f\\x92¦  ': 26,\n",
       "         ' factsguide: society now    #motivation': 1,\n",
       "         '[2/2] huge fan fare and big talking before they leave. chaos and pay disputes when they get there. #allshowandnogo  ': 1,\n",
       "         ' @user camping tomorrow @user @user @user @user @user @user @user dannyâ\\x80¦': 1,\n",
       "         \"the next school year is the year for exams.ð\\x9f\\x98¯ can't think about that ð\\x9f\\x98\\xad #school #exams   #hate #imagine #actorslife #revolutionschool #girl\": 1,\n",
       "         'we won!!! love the land!!! #allin #cavs #champions #cleveland #clevelandcavaliers  â\\x80¦ ': 1,\n",
       "         \" @user @user welcome here !  i'm   it's so #gr8 ! \": 1,\n",
       "         ' â\\x86\\x9d #ireland consumer price index (mom) climbed from previous 0.2% to 0.5% in may   #blog #silver #gold #forex': 1,\n",
       "         'we are so selfish. #orlando #standwithorlando #pulseshooting #orlandoshooting #biggerproblems #selfish #heabreaking   #values #love #': 1,\n",
       "         'i get to see my daddy today!!   #80days #gettingfed': 1,\n",
       "         \"@user #cnn calls #michigan middle school 'build the wall' chant '' #tcot  \": 1,\n",
       "         'no comment!  in #australia   #opkillingbay #seashepherd #helpcovedolphins #thecove  #helpcovedolphins': 1,\n",
       "         'ouch...junior is angryð\\x9f\\x98\\x90#got7 #junior #yugyoem   #omg ': 1,\n",
       "         'i am thankful for having a paner. #thankful #positive     ': 1,\n",
       "         'retweet if you agree! ': 1,\n",
       "         'its #friday! ð\\x9f\\x98\\x80 smiles all around via ig user: @user #cookies make people   ': 1,\n",
       "         'as we all know, essential oils are not made of chemicals. ': 1,\n",
       "         '#euro2016 people blaming ha for conceded goal was it fat rooney who gave away free kick knowing bale can hit them from there.  ': 1,\n",
       "         'sad little dude..   #badday #coneofshame #cats #pissed #funny #laughs ': 1,\n",
       "         \"product of the day: happy man #wine tool  who's   it's the #weekend? time to open up &amp; drink up!\": 1,\n",
       "         '@user @user lumpy says i am a . prove it lumpy.': 1,\n",
       "         ' @user #tgif   #ff to my #gamedev #indiedev #indiegamedev #squad! @user @user @user @user @user': 1,\n",
       "         'beautiful sign by vendor 80 for $45.00!! #upsideofflorida #shopalyssas   #love ': 1,\n",
       "         ' @user all #smiles when #media is   !! ð\\x9f\\x98\\x9cð\\x9f\\x98\\x88 #pressconference in #antalya #turkey ! sunday #throwback  love! ð\\x9f\\x98\\x8að\\x9f\\x98\\x98â\\x9d¤ï¸\\x8f ': 1,\n",
       "         'we had a great panel on the mediatization of the public service   #ica16': 1,\n",
       "         \"happy father's day @user ð\\x9f\\x92\\x93ð\\x9f\\x92\\x93ð\\x9f\\x92\\x93ð\\x9f\\x92\\x93  \": 1,\n",
       "         \"50 people went to nightclub to have a good night and 1 man's actions means those people are lost to their families forever #rip#orlando\": 1,\n",
       "         'i have never had a chance to vote for a presidential candidate i was excited about and this cycle looks to be no different.  ': 1,\n",
       "         '  #alohafriday #time does #not #exist #positivevibes #hawaiian @user @user @user @user ': 1,\n",
       "         ' @user rip to the fellow nohern ireland fan who sadley passed away tonight!.. gawa, forever singing and cheering on fire  ': 1,\n",
       "         'it was a hard monday due to cloudy weather. disabling oxygen production for today. #goodnight #badmonday  ': 1,\n",
       "         \"it's unbelievable that in the 21st century we'd need something like this. again. #neverump  #xenophobia \": 1,\n",
       "         '#taylorswift1989   bull up: you will dominate your bull and you will direct it whatever you want it to do. w ': 1,\n",
       "         'morning~~ #travelingram #dalat   #ripinkylife ': 1,\n",
       "         '@user once more only one word tells it all: #photoshop.  #enoughisenough #dontphotoshopeverything #wheresallthenaturalphotos  ': 1,\n",
       "         'oh, #cedarpoint. waited 2 hours in the valravn line and it stopped working. we were so close.  ': 1,\n",
       "         'i am thankful for sunshine. #thankful #positive     ': 1,\n",
       "         \"when you finally finish a book you've been working on for awhile...  #bookworm #ontothenextnovel \": 1,\n",
       "         'yup, being a knicks fan is hard, so its easier to just be an nba fan when the playoffs roll around ð\\x9f\\x98\\x8e ': 1,\n",
       "         'there is life after social networking. embrace each day. be   ': 1,\n",
       "         'my mom shares the same bihday as @user   bihday snake! see you this weekend ð\\x9f\\x99\\x8cð\\x9f\\x8f¼': 1,\n",
       "         'lovely echeveria blooms#flowers #grow #gardening #iphonesia #bliss #blooms #basilicabotanica   ': 1,\n",
       "         'i am amazing. #i_am #positive #affirmation     ': 1,\n",
       "         '#whenever im   and #something goes #wrong  |  ': 1,\n",
       "         'feeling blue #illustration   ': 1,\n",
       "         'the best pa about life is knowing who you are! ð\\x9f\\x98\\x8aâ\\x98\\x80ï¸\\x8fð\\x9f\\x8c¼ð\\x9f\\x8c»  â\\x80¦ ': 1,\n",
       "         '#abc2020 getting ready 2 remove the victums frm #pulseclub #prayfororlando  ': 1,\n",
       "         'for her #bihday we got her a #nose #job @user  ð\\x9f\\x8e\\x88ð\\x9f\\x90¶ð\\x9f\\x8e\\x89ð\\x9f\\x8e\\x82ð\\x9f\\x8e\\x81    #bihday #petunia we love you ð\\x9f\\x99\\x83 ': 1,\n",
       "         'off to concelebrate at the #albanpilgrimage for the first time.   @user': 1,\n",
       "         ' @user let the scum-baggery begin..... ': 1,\n",
       "         'thank you! ð\\x9f\\x98\\x8dð\\x9f\\x98\\x86 super love it! â\\x9d¤ï¸\\x8f zpamdelacruz   #wedding# @ dolores, capas tarlac. ': 1,\n",
       "         'a scourge on those playing baroque pieces on piano    beyond belief ': 1,\n",
       "         '@user lets fight against  #love #peace ': 1,\n",
       "         ' happy fatherâ\\x80\\x99s day, mr. rayos #video   #fathers #day #rayos #world #hotvideo #videos': 1,\n",
       "         ' @user ascot times with this babe â\\x9d¤ï¸\\x8fâ\\x9d¤ï¸\\x8f #ascot #fashion #monochrome #style   #instahappyday ': 1,\n",
       "         'the weekend..is here!!ð\\x9f\\x99\\x8cð\\x9f\\x98\\x89ð\\x9f\\x98\\x98ð\\x9f\\x92\\x99ð\\x9f\\x98\\x8a #selfie   #yolo #xoxo #like4like ': 1,\n",
       "         \"happy at work conference: right' mindset leads to culture-of-development organizations    #work #mindset\": 1,\n",
       "         \"christina grimmie's  last performance before being shot...  via @user #christinarip #voice #christinagrimmie  \": 1,\n",
       "         'we are ready to dance #roar #preschoolers   #students #proudâ\\x80¦ ': 1,\n",
       "         \"you've really hu my feelings :(  \": 1,\n",
       "         \"@user my wife whom i adore had to miss your poland show because she had surgery. her name is bridget &amp; she's my everything.  \": 1,\n",
       "         '@user i am so jealous of you right now.... #chatiado  ': 1,\n",
       "         \"i celebrate every man that has played it's fatherly role.   father's day#\": 1,\n",
       "         \"i'm sure they are just as happy.... ð\\x9f\\x91\\x8fð\\x9f\\x8f½ð\\x9f\\x91\\x8fð\\x9f\\x8f½ð\\x9f\\x91\\x8fð\\x9f\\x8f½   hour  \": 1,\n",
       "         \"ð\\x9f\\x98©the white establishment can't have blk folx running around loving themselves and promoting our greatness  \": 1,\n",
       "         'good morning! the journey begins! ð\\x9f\\x98\\x84ð\\x9f\\x91\\x8dð\\x9f\\x8f»ð\\x9f\\x9b³   #travel #yeah #thejourneybegins #helloâ\\x80¦ ': 1,\n",
       "         ' @user # if you #luv #hottweets like this from â\\x96¶ â\\x99¥#venusexchangeâ\\x99¥ ': 1,\n",
       "         'our new brochures have arrived! how exciting!! #aworks #solutions   ': 1,\n",
       "         'so much stuff happening in florida! first #orlando shooting and now #disneygatorattack on a two year old kidð\\x9f\\x98¥ð\\x9f\\x90\\x8a  ': 1,\n",
       "         '@user ferrari will do itð\\x9f\\x92ªð\\x9f\\x8f¼ for the sake of the championship. this gp is clearly a turning point rb, ferrari,mercs...ð\\x9f\\x98\\x8d  ': 1,\n",
       "         'aced my first test!   #proud ': 1,\n",
       "         \"  seeks probe into #udtapunjab' leak, points finger at #amarinder, #aap  \": 1,\n",
       "         '@user wrapping up #senseaboutmaths @user 6th   @user @user @user ': 1,\n",
       "         \"@user hey, white people: you can call people 'white' by @user  #race  #identity #medâ\\x80¦\": 1,\n",
       "         '@user @user you might be. just have not shown here today. regurgitated talking points and name calling?  ': 1,\n",
       "         'sometimes you have to raise a few brows to raise the bar. #golfstrengthandconditioning   #strong #felixfoisgolf': 1,\n",
       "         '  about that ð\\x9f\\x98\\x80ð\\x9f\\x98\\x80ð\\x9f\\x98\\x80 #greathonour #careerconvos @user @user ': 1,\n",
       "         ' @user designing #innovative learning space @user to include #wateringhole #cave #mountaintop #campfire @user   hâ\\x80¦': 1,\n",
       "         'how the #altright uses  &amp; insecurity to lure men into #whitesupremacy    ': 1,\n",
       "         \"carrying a gun wouldn't of helped if you can't take it in with you. gun control won't stop the black market! terrorism will get worse!  \": 1,\n",
       "         'use the power of your mind to #heal your body!! -     #altwaystoheal #healthy   #peace! ': 2,\n",
       "         'woohoo!! just over 5 weeks to go!   ': 1,\n",
       "         'being in a far away place where you have no family members hus  ': 1,\n",
       "         'ready to rehearse tonight with new music and new videos, look out for the announcement! #midweek #newmusic #watchthisspace #guitar  ': 1,\n",
       "         'now on monday nights at 8pm on #up channel!!!! i finally get to see what all the fuss is about!!!   ': 1,\n",
       "         'watching the new episodes of @user on @user  ': 1,\n",
       "         ' @user offline now after a very nice and long night.. ð\\x9f\\x98\\x9a #snapchat @user   #redhead #vermillionred ': 1,\n",
       "         ' 15 things incredibly   #people do ': 1,\n",
       "         'yes! received my acceptance letter for my masters so will be back at @user again in october!    #goodtimes #history': 1,\n",
       "         'daughter riding her bike around driveway, son playing his guitar for us while we enjoy ð\\x9f\\x8dº by the campfire... #summeime   #memories': 1,\n",
       "         'omg!!! loving this station!!! way to jam out at work!!! while getting work done of course!!!!   #memories @user ': 1,\n",
       "         \"@user i'll always hope that one day i'll get to hug you, but i don't think that it's gonna happen anytime soon... \": 1,\n",
       "         '  couple having sex fat naked japanese girls  ': 1,\n",
       "         '#hump on that    #hump day #humpersð\\x9f\\x98© @ edwardsville, pennsylvania ': 1,\n",
       "         'personalised we... gbp 7.99 get here:  #shop #cool   #home #fun ': 1,\n",
       "         'there are some truly sick ppl out there.   ': 1,\n",
       "         'trump calling on obama to resign over the orlando shootings? the boy has a point. 8 years and all he did was \"talk\" about change.  ': 1,\n",
       "         '@user @user @user @user not long now!!!   #nashvilletour2016 #nashvilleforever ð\\x9f\\x92\\x96ð\\x9f\\x92\\x96ð\\x9f\\x92\\x96 ': 1,\n",
       "         ' â\\x86\\x9d #eur/usd clears 1.1400 barrier, jumps to fresh 4-week high   #blog #silver #gold #forex': 1,\n",
       "         'going to la tomorrow!!!  ': 1,\n",
       "         'i am thankful for good friends. #thankful #positive     ': 1,\n",
       "         'i still can not wrap my head around the fact that #christinagrimmie is gone. and the fact that a man destroyed #prayfororlando just  ': 1,\n",
       "         \"just received dis from @user can't wait to sta baking #eyelids .ð\\x9f\\x98\\x9að\\x9f\\x98\\x9að\\x9f\\x98\\x8eð\\x9f\\x98\\x8eð\\x9f\\x98\\x8eð\\x9f\\x98\\x8e   ð\\x9f\\x98\\x89ð\\x9f\\x98\\x89ð\\x9f\\x98\\x89â\\x80¦ \": 1,\n",
       "         'we were so   to be playing for #vigilfororlando #harp #clonakilty #rip  via @user': 1,\n",
       "         ' @user yes yes yes   #ihavenofriends #someonecomewithme ': 1,\n",
       "         'sunday...ð\\x9f\\x92\\x95 #weekend #relax #icon #woman #sundaymorning #sunday   #marilynmonroe ': 1,\n",
       "         \"@user i'm not interested in a #linguistics that doesn't address #race &amp; . racism is about #power. #raciolinguistics bringsâ\\x80¦\": 1,\n",
       "         'one of my beloved long lost cds, now recovered thanks to apple music.  !  ': 1,\n",
       "         '#marvel #song #musica #weed #ripchristina #adele   #dance (vine by @user ': 1,\n",
       "         '@user why not @user mocked obama for being black.  @user @user @user @user #brexit': 1,\n",
       "         ' â\\x86\\x9d #under the spell of brexit referendum - commerzbank   #blog #silver #gold #forex': 1,\n",
       "         '100 amazing health benefits of cucumbers!    #healthy is  !!  #altwaystoheal! ': 1,\n",
       "         'off to work ð\\x9f\\x92ªð\\x9f\\x8f»ð\\x9f\\x9a¶ð\\x9f\\x8f¼ #ofw #pinoy #followme #igers #instagood #smile   #love # ': 1,\n",
       "         '#toradora #anime #animeedit i made it.   #breakups #alone #lonely ': 1,\n",
       "         '50 laps of pool, 10k ride done and picked up a gym membership form  ': 1,\n",
       "         '#cotd   polar bear climb racing: angry polar bear climb racing, the polar bear living in cold places looking ': 2,\n",
       "         ' @user @user gets him angry.  a muslim assassinating 50 not so much.    ': 1,\n",
       "         'happy snappy ð\\x9f\\x99\\x8cð\\x9f\\x8f¼ waiting for the football   #football #snapchat ': 1,\n",
       "         'friday i miss you!!   #fringes#qcbags#summer ð\\x9f\\x98\\x8eð\\x9f\\x98\\x8eð\\x9f\\x98\\x8eð\\x9f\\x8c\\x9eð\\x9f\\x8c\\x9eð\\x9f\\x8c\\x9eó¾®\\x9eð\\x9f\\x8f» ': 1,\n",
       "         '#nochebuena   #lasvegas #usa @ las vegas strip ': 1,\n",
       "         'ma fleurette ð\\x9f\\x91¯ð\\x9f\\x92\\x95 #instaboy#instaman#sefie#septum#friend #smiles#blackandwhite ': 1,\n",
       "         'sad in the branches itâ\\x80\\x99s just rainy day writing tears are flying birds   #haiku #3lines #micropoetry  ': 1,\n",
       "         'yeah! new buttons in the mail for me ð\\x9f\\x92\\x96  they are so pretty! :) #jewelrymaking #buttons   ': 1,\n",
       "         ' @user driver hit female moose on river rd #weston.  moose was killed. driver is ok. crews removing animal now  ': 1,\n",
       "         'afterpas.   made in japan. ï¼\\x83madeinjapan  #eos  ï¼\\x83cute #fun #cawaii #love   #strawberry #tomato ': 1,\n",
       "         \"#people aren't protesting #trump because a #republican won-they do so because trump has fuhered  &amp;â\\x80¦ \": 2,\n",
       "         'i need to find a way to spend my time so you are not always on my mind. . .  #me #boy #guy  â\\x80¦ ': 1,\n",
       "         '[1466047260.15] update @  #social #analytics   #photooftheday #igers #likes ': 1,\n",
       "         'anyone know the date our #doj and #fbi became corrupted? #emailgate #hillary2016 #shameful #disgraceful #ridiculous  ': 1,\n",
       "         '#stupidity makes me more   than even #negligence.why put #sachintendulkar a installation if u were going to take it off?': 1,\n",
       "         'ð\\x9f\\x98\\x86ð\\x9f\\x92\\x95ð\\x9f\\x8c\\x9fð\\x9f\\x92\\x93â\\x9c¨â\\xad\\x90ï¸\\x8f  #ã\\x82\\x86ã\\x82\\x8aã\\x81\\x9dã\\x82\\x93   bihdayð\\x9f\\x8e\\x89 #21thbihday ð\\x9f\\x92\\x93 #bestfriend ð\\x9f\\x8c\\x9f #loveð\\x9f\\x91¼ ': 1,\n",
       "         ' @user ð\\x9f\\x92\\x8b d most impoant thing is to #enjoy your life - to be   - itâ\\x80\\x99s all that matters. life is too sho. #pooh4u ': 1,\n",
       "         'happy bihday chris evansð\\x9f\\x8e\\x87ð\\x9f\\x8e\\x89ð\\x9f\\x8e\\x8að\\x9f\\x8e\\x81ð\\x9f\\x8e\\x82ð\\x9f\\x8e\\x86ð\\x9f\\x8e\\x88 a great actor and human ð\\x9f\\x98\\x81ð\\x9f\\x98\\x8dð\\x9f\\x98³ð\\x9f\\x98\\x98ð\\x9f\\x98»ð\\x9f\\x98¸ð\\x9f\\x92\\x9cð\\x9f\\x92\\x93ð\\x9f\\x92\\x9e #chrisevans   #bihdayâ\\x80¦ ': 1,\n",
       "         'our heas, thoughts, prayers go out to the more than 50 people who were murdered @ a gay nightclub in #florida   ': 1,\n",
       "         ' @user demoing guitars for new album #newalbum #indie #guitars   #echobelly ': 1,\n",
       "         'retweeted lion pro (@user  #tgif #webmareting #seo #community #management   #weekend... ': 1,\n",
       "         ' â\\x86\\x9d #nzd/usd: targets the 100 week sma at 0.7190   #blog #silver #gold #forex': 1,\n",
       "         \" @user i've had pretty bad bihday weeks before, but so far this is the worst ever. ð\\x9f\\x98\\x92 #bihdayweeksucks #bithday27   #tâ\\x80¦\": 1,\n",
       "         \"so blessed to have worked with sa's best leading ladiesð\\x9f\\x98\\x84ð\\x9f\\x98\\x84 \": 1,\n",
       "         'happiest place on eah ð\\x9f\\x92« #disneysmagickingdom #disney #magickingdom #disneyland   #orlandoâ\\x80¦ ': 1,\n",
       "         'is kinda   to be among humans again.': 1,\n",
       "         \"just found out @user is at @user after i'd been exclaiming to @user how gr8 blain's hair was the other nite.   ð\\x9f\\x98\\xad\": 1,\n",
       "         '@user &lt;3 listen to my most beautiful best friend  @user  singing with her most amazing voice &lt;3 &lt;3 &lt;3 &lt;3 17 ': 1,\n",
       "         'be   n #healthy freedom from effo in the present merely means that there has been effo stored up in the past. â\\x80\\x93 theodore rooseveltâ\\x80¦': 1,\n",
       "         'when you know yall 2 aint going know where :) #love #commitment #trust #faithful  ': 1,\n",
       "         \"yes it's  when you call #michelleobama a gorilla because racists have long thought of black people as no betâ\\x80¦ \": 1,\n",
       "         '#newarkfestival this is us all this year waiting for the show to sta our 3rd year running   ': 1,\n",
       "         \"when the internet is broken so you can't watch netflix. #mochithepug #puglife   \": 1,\n",
       "         '@user @user @user and she will do just that....then what..business as usual.  ': 1,\n",
       "         'hbd to this dick suckin tequila lovin slut, i wouldnt want u any other way ð\\x9f\\x92\\x95ð\\x9f\\x98\\x98   #justalillate #butstillontime ': 1,\n",
       "         'as the smaller hands show, barry probably lied about  being why his #knicks game sucked more than his #golfâ\\x80¦ ': 1,\n",
       "         'good morning friday! what is everyone doing this weekend? #goodmorning #friday #girls   #love #florida ': 1,\n",
       "         \"  challenges #aap's claim that 70% #punjabis are #drugaddicts, dares it to prove   \": 1,\n",
       "         '#tracerequest sending my deepest condolences to the orlando gay families. zimbabwe gay community has you at hea   #touched': 1,\n",
       "         'new selfie \\\\Â¤.Â¤/  #guy   #mato #chapones ': 1,\n",
       "         'saturday afternoon chi meet up #friends    @user  @user  @user ': 1,\n",
       "         'soed out all my nut &amp; bolts.   #bloke': 1,\n",
       "         \"aww yeah it's all good bing bong bing bong   \": 7,\n",
       "         'just dawned on me in 2 months i will be seeing @user live. i am so excited ð\\x9f\\x98\\x8dð\\x9f\\x98\\x8dð\\x9f\\x98\\x8d #vfest #summer  ': 1,\n",
       "         ' @user happy 35th bihday shane robe watson!!    #bihday #shane #watson #australia #cricker ': 1,\n",
       "         '@user @user you point one finger @user millions are pointed right back at you,  #jewishsupremacist': 1,\n",
       "         'sad to hear the announcers say that \"it may have moved the player to one or two out of the lead\" #whoknows!  ': 1,\n",
       "         \"#radio1 i'm going to #coldplay tonight   oh yes.\": 1,\n",
       "         'u think like this too? the god who is not coming through for me. the god who is not keeping me  . ': 1,\n",
       "         '@user terrorist = constitutional rights?  this is just another excuse by republicans to appease the nra with no gun control measures. !': 1,\n",
       "         \" @user it's all about @user   #gloucesterrugby \": 1,\n",
       "         ' @user very sad, @user what happened? ': 1,\n",
       "         'everyone is everything   #sad #together #alone #up #down #fine #dandy #lonely #exuberant #depressed #halffull #halfempty': 1,\n",
       "         '#mikeashley #sposdirectshame , perhapse a good example of the need to protect #workersrights from within europe. #euref   #remain': 1,\n",
       "         'angry birds stella bad princess   #birds #stella #bad #princess birdsstellabadprincess.  time post: wedâ\\x80¦ ': 1,\n",
       "         'check  @user incredibly   to have made great  memories with great people , we did an ...': 1,\n",
       "         'saw a t shi last night that said \"rip  to when i cared\"   #really': 1,\n",
       "         \" @user hilarious, @user i'm already blocked by @user for asking one, not paicularly difficult, question.   @user\": 1,\n",
       "         'devastating news.  my hea goes out to the victims and their families.  #orlando #heabreaking   ': 1,\n",
       "         '\"happiness is not a state to arrive at, but a manner of traveling.\" margaret lee #runbeck   #happiness #quotes #inspirational': 1,\n",
       "         'safe ways to heal your #acne!!    #altwaystoheal #healthy   #healing!! ': 2,\n",
       "         'what i am creating right now. #beats #makingbeats #thursday   #work #istandard #akaiproâ\\x80¦ ': 1,\n",
       "         'wedding number 10! ð\\x9f\\x98\\x9cð\\x9f\\x98\\x9cð\\x9f\\x92\\x96ð\\x9f\\x92\\x96ð\\x9f\\x92\\x90ð\\x9f\\x8d¾ð\\x9f\\x8d¾  #wedding #weddingpay     #love #forever #weddingdressâ\\x80¦ ': 1,\n",
       "         \"we're looking forward to attending the  cipd ireland conference &amp; workshop   #cpd #onemoreday @user  @user\": 1,\n",
       "         'finally reached 200 followers on #twitch. follower hypu #stream tomorrow! â\\x9d¤  ': 1,\n",
       "         \"words r free, it's how u use em that can cost you! #verbal #abuse   #hu #love  #adult #teen @user \": 1,\n",
       "         'after what our country went through this last year to see people bring a \"bomb\" to the stadium &amp; come here for everything but football  ': 1,\n",
       "         'i am thankful for cats. #thankful #positive      ': 1,\n",
       "         'time to eat with my bae swalscha ð\\x9f\\x98\\x8dâ\\x9c¨ð\\x9f\\x98\\x8b #dejeuner #lunch   #happiness #love #amoureuxâ\\x80¦ ': 1,\n",
       "         'ilovethesecret  #lawofattraction  #quiz #love #happiness #motivation #success   #joy #lifeâ\\x80¦ ': 1,\n",
       "         'you might be a libtard if... #libtard  #sjw #liberal #politics ': 4,\n",
       "         \"it's about to go down... #pole #bgp #rozthediva #blackgirlspole #bodyandpole #live #love  â\\x80¦ \": 1,\n",
       "         '#argentina2015   attack bull game 3d: do you really think that his head was empty around the city. each side ': 1,\n",
       "         'what a self-serving hypocrite! always keep your eye on the bouncing ball with this nimrod president.   ': 1,\n",
       "         '#nohcarolina   bull up: you will dominate your bull and you will direct it whatever you want it to do. whe ': 1,\n",
       "         '#building   polar bear climb racing: angry polar bear climb racing, the polar bear living in cold places loo ': 1,\n",
       "         '@user @user if they want reelection money. #ksleg  ': 1,\n",
       "         'my hea is with #orlando right now. i truly cannot imagine. could have easily happened anywhere. :(  ': 1,\n",
       "         'alreemgroup #aly_alshahawy #ad #cute #summer #photographerdubai #sun   #hair #mydubaiâ\\x80¦ ': 1,\n",
       "         'it seems like the only place with action here is montreal :(   ': 1,\n",
       "         ' @user that, and you are old and washed up! ': 1,\n",
       "         'i am spirited. #i_am #positive #affirmation     ': 1,\n",
       "         'i am thankful for enteainment. #thankful #positive     ': 1,\n",
       "         '@user @user @user this shows truly how bad brisbane are  ': 1,\n",
       "         \"@user can't wait for #wimbledon2016  \": 1,\n",
       "         'happy man!!!  #success #model #entrepreneur  #speaker #ff #fresh #confident    #fashionâ\\x80¦ ': 1,\n",
       "         '#gala moments ...   #day #kid #bipolar #frikiegirl2016 @ the lucky chinatown mall, binondo,â\\x80¦ ': 1,\n",
       "         \"this really takes the piss. i'm so angry. just goes to show who is valued and who isn't. you complete and utter moron.  \": 1,\n",
       "         '@user take out the #trash america...  - i voted against #hate - i voted against  - i voted against  - i votâ\\x80¦ ': 1,\n",
       "         '  fathers day to all the #amazing #dads out there that give up so much for their families! #enjoy your... ': 1,\n",
       "         'does #magnettherapy really work?   #altwaystoheal #healing #healthy   !! ': 1,\n",
       "         'sebbo has said it all!  @user ': 1,\n",
       "         'ð\\x9f\\x98\\x81ð\\x9f\\x98\\x81ð\\x9f\\x98\\x81â\\x9d¤ï¸\\x8f egã\\x80\\x9cï¼\\x9fï¼\\x9fï¼\\x9f smile!!!!!â\\x9d¤ï¸\\x8fð\\x9f\\x97£ð\\x9f¤\\x98ð\\x9f\\x8f½ ã\\x83» #smile#egsmile #torio  ': 1,\n",
       "         '@user brilliant service at your kettering branch today   customer': 1,\n",
       "         '@user will be here for a screening. i will miss it. so i will sing all the songs from potp and shock treatment, because i can.  ': 1,\n",
       "         'on the way toraya #bus #alamindah #white #music #carrieunderwood   ': 1,\n",
       "         'good day - 6 new beers at bridpo food &amp; beer fest. back at the campsite drunk the @user starstruck &amp; moved on to @user #5.  ': 1,\n",
       "         'g o a l s ð\\x9f\\x92\\x99 repost from @user #propey #ocean #summer   #life #family @ sydneyâ\\x80¦ ': 1,\n",
       "         \"i want to teach you love like you've never felt it before.  #quote #quotes #love #pakistan #allin216 #girls #boys #fashion   #feelings\": 1,\n",
       "         'i am thankful for now. #thankful #positive     ': 1,\n",
       "         \"omg just 100 days left!! #countdown   #nolefam @user can't wait for him to come to milan! #22092016 ð\\x9f\\x98\\x8dð\\x9f\\x94\\x9c \": 1,\n",
       "         ' @user stone roses done. now time for @user in a d club.   days': 1,\n",
       "         '\"there\\'s a reason why two people stay together, they give each other something nobody else can.\" hopelly greats day ': 1,\n",
       "         'you never know who might have a crush on you! #wakow #buzz   #moment #ride #love #crush #dating #hookup #app ': 1,\n",
       "         'my friend just got engaged  ð\\x9f\\x91©â\\x80\\x8dâ\\x9d¤ï¸\\x8fâ\\x80\\x8dð\\x9f\\x92\\x8bâ\\x80\\x8dð\\x9f\\x91©': 1,\n",
       "         '298 days lef b4 end of classez yay    #risay18 #risaypls': 1,\n",
       "         '  #thursday ð\\x9f\\x98\\x8a may we watch how we say what needs to be be saidâ\\x80¦ ': 1,\n",
       "         'i am legendary. #i_am #positive #affirmation     ': 1,\n",
       "         \"to the united states of america, from the rest of the world: i think you've proven you don't have the right to own firearms.    \": 1,\n",
       "         \"if you hold open a door for a woman because she's a woman and not because it's a nice thing to do, that's . don't even try to deny it\": 1,\n",
       "         'when your having a good weekend and it shows :) #thankful #blessed   // #jeffreycwilliams ð\\x9f\\x92\\x8eâ\\x80¦ ': 1,\n",
       "         'when you have a good hea and help everyone you always seem to be the one who gets hu   #buttrue': 1,\n",
       "         'the happiest baby ive ever knownð\\x9f\\x92\\x93 #cute #smiles   #babygirl #beautiful #niece #blessed #xo ': 1,\n",
       "         'are you ready for #t.b.c ? #oneteamlincoln are... ð\\x9f\\x98\\x8d  @user @user @user @user ': 1,\n",
       "         \"can't wait for carowinds! ready to see @user  and @user  time to #rockthepark    #timetogetmyjesuson\": 1,\n",
       "         'already bought my finding dory ticket  ': 1,\n",
       "         'for every minute you are   you lose sixty seconds of #happiness - and you should do the same ð\\x9f\\x98ª': 1,\n",
       "         '#sanjapan   #animeconvention see you guys in september! ': 1,\n",
       "         'question of the day: excited for motoâ\\x80\\x99sâ\\x80¦  #tech #announcements   #moto_s #question ': 1,\n",
       "         'make today count! #mondaymotivation #livelifetothefullest   #healthy #everydaycounts ': 1,\n",
       "         'happy morning 8degree with anna #classmate #friends   @ 92â\\x80¦ ': 1,\n",
       "         '@user would u be able to suppo our event #brentwood #homesta they lost funding and may have to close   ': 1,\n",
       "         'we are happy little peoples ð\\x9f\\x98\\x8a   happyhappy people #kitten #cat #blackkittenâ\\x80¦ ': 1,\n",
       "         '@user @user @user thank you very much for this oppounity will cherish it forever   ð\\x9f\\x87¿ð\\x9f\\x87¦ð\\x9f\\x8d» ð\\x9f\\x8f\\x89ð\\x9f\\x92ªð\\x9f\\x8f»ð\\x9f\\x91\\x8dð\\x9f\\x8f¼': 1,\n",
       "         'ð\\x9f\\x93· themeowood:   puppy ': 1,\n",
       "         'few more days till who is  ? ð\\x9f\\x98\\x8d ': 1,\n",
       "         '\"happy\" by pharrell williams    #pharrellwilliams lyrics â\\x86º': 1,\n",
       "         ' @user happy at w.ork conference: right mindset leads to culture-of-development organizations    #workâ\\x80¦': 1,\n",
       "         'we lost another member of our family yesterday:-( #gutted   #rosie ': 1,\n",
       "         'yayyy.... trailer 2morrow #fever super   @user @user @user': 1,\n",
       "         'watch fancy tails\\'s vine \"mad #mad   #teeth #bite #pissed #dog   #biting #dogbite #dogtreat  ': 1,\n",
       "         '#dreamcatcher   bull up: you will dominate your bull and you will direct it whatever you want it to do. when ': 1,\n",
       "         \"i'm so ready for tomorrow ð\\x9f\\x91\\x93ð\\x9f\\x93\\x9að\\x9f\\x93\\x9að\\x9f\\x93\\x9að\\x9f\\x93\\x96ð\\x9f\\x93\\x91#englishteacher #teacher #ecuador   \": 1,\n",
       "         'in memory of my wonderful dad, always missed, eternally loved. #strong   #greatquotesâ\\x80¦ ': 1,\n",
       "         ' @user @user on dallas shooting \"the video you\\'re about to see is disturbing, so viewer discretion\" then they play it in a loop oveâ\\x80¦': 1,\n",
       "         \"#itako#alone#it's fine.  a little. \": 1,\n",
       "         'sunshine &amp; stickers kind of saturday ð\\x9f\\x91¸ð\\x9f\\x8f½  #letthembelittle #childhoodunplugged   ': 1,\n",
       "         'had a wonderful day today â\\x98\\x80ï¸\\x8f #calm #sunny   #chubbygirl #glasses #finnishgirl #finn ': 1,\n",
       "         'buka bersama tma family...   #yuhuuuuu #tmaâ\\x80¦ (w/ risha, meylucky, &amp; 3 others at mayfair townhouse) [pic] â\\x80\\x94 ': 1,\n",
       "         'he loves you more than you know.ð\\x9f\\x98\\x8að\\x9f\\x92\\x96 #nationalbestfriendsday #true  ': 1,\n",
       "         '@user this man ran for governor of ny, the state with the biggest african-american population    #â\\x80¦': 1,\n",
       "         '#stereotyping #prejudice  offer no #hope or solutions but create the same old repetitive #hate #conflictâ\\x80¦ ': 1,\n",
       "         'who can get the pussy quicker these days   ð\\x9f\\x98\\x94': 1,\n",
       "         \"i'll probably be 30 by the time @user comes back home   #ugh\": 1,\n",
       "         ' @user anyone playing voez? kinda in love with this game ð\\x9f\\x98\\x98ð\\x9f\\x98\\x98ð\\x9f\\x98\\x98 #game   #gaming #girlgamer #voez ': 1,\n",
       "         'how many#pols passed by how many times and said nothing?   #bluelivesmatter #draintheswamp  #ferguson  ': 1,\n",
       "         'sequoia is   about the #weekend! ': 1,\n",
       "         'some bitches care more about their eyebrows then how much $$$ they makin at the end of the week  ': 1,\n",
       "         'bham is pride paradeready#beyou# #ofbham   @user @user @user ': 1,\n",
       "         '  #fathersday to all the guys who play dad out there we #love you ð\\x9f\\x92\\x95 ': 1,\n",
       "         '#æ\\x9c´å®\\x9då\\x89\\x910616ç\\x94\\x9fæ\\x97¥å¿«ä¹\\x90  bihday to my bogummy!!!love you forever!hope you happy everyday!good night!ð\\x9f\\x92\\x95@user ': 1,\n",
       "         'wishing all our clients had baby goats to cuddle!   ': 1,\n",
       "         '  #positivevibes #fresh love you guys. get some!!! @ concord mills mall ': 1,\n",
       "         \"the #conjuring2 get ready to be scared! tonight it's on! #readyornot #truestory   \": 1,\n",
       "         'â\\x80\\x9ctoday is the day to make the change. eliminate negativity and choose to live a positive lifestyle instead.â\\x80\\x9d   ': 1,\n",
       "         ' @user aaahh! nabilah looks so   ð\\x9f\\x98\\x8d   arigatou jkt48! have a very happy daaay â\\x98ºï¸\\x8f #iwearbanana  ': 1,\n",
       "         'last day at work tomorrow for me- self employed from monday #scared   #redditchbizhour': 1,\n",
       "         '@user im half boy half man.... so im dumb too??   ð\\x9f\\x98¢ð\\x9f\\x98\\x82': 1,\n",
       "         'my happy little boy! #smiles   #corbinrayp ': 1,\n",
       "         \"never been more appropriate: i have zero idea of what i'm feeling right now #scared   #missyou #whatwasthat \": 1,\n",
       "         ' @user have a magnificent monday! #mondaymorning #mondaymotivation #monday   #indraloka ': 1,\n",
       "         'i just dont understand y these designers print animals on fabric, just bought @user muzlin 5b #sanasafinaz   #noexchangepolicy': 1,\n",
       "         'maybe 4 happy hour you can get a \"  #ending\" ó¾®\\x97ó¾\\x8cµó¾\\xad» ': 1,\n",
       "         '#littlebear and her friend #joy   #toddlerfriends #puresweetness #latergram #toddlerfun ': 1,\n",
       "         \"if you have never lost a loved one to senseless violence you don't get a fucking opinion on the 2nd amendment   \": 1,\n",
       "         'where is the world heading? you could lose your life just for leaving your home. #orlando  ': 1,\n",
       "         'i heard him say that, he was trying to lock the shooter in,  but kept other patrons from getting out!    ': 1,\n",
       "         'good mood flight with @user off to munich for @user interviews!   #pharrell ': 1,\n",
       "         'first presentation by @user in the netherlands by @user   ': 1,\n",
       "         'u made us proud i hv been reading ur words &amp;  assured it will b a assoment of petite emotions wish u the best. ': 1,\n",
       "         'happiness vs joy. happiness is temporary and leaves u hu. joy last forever and never leaves. #real #tru   ': 1,\n",
       "         'twinklatinboys - na: #slut #snapshot #hot #nasty #naughty #sexy #horny #shy #porn #nude   #kinky #xxx #y... ': 1,\n",
       "         ' @user it is not   people who are thankful. it is thankful people who are happy.  #thankfulthursday ': 1,\n",
       "         'i am creative. #i_am #positive #affirmation     ': 1,\n",
       "         'i have held back tears. i have cried happy tears &amp; finally we leave a week tomorrow!!! @user @user #canadianravers  ': 1,\n",
       "         'bihday pressie from my mummy and my granny #michaelkors #luckygirl   #bihday #liverpool ': 1,\n",
       "         ' @user stuck in athens instead of santorini because @user said it was to windy to land! shocking service on every level since!â\\x80¦': 1,\n",
       "         ' @user these happy folks had the very first #freakshake at the launch. #freaks   #yum #dalston @user ': 1,\n",
       "         'what a \"huge\" crowd for trump. ': 1,\n",
       "         'i am thankful for saturdays. #thankful #positive     ': 1,\n",
       "         'good god, why?!   ð\\x9f\\x98³ ': 1,\n",
       "         ' @user enjoying these delicious melons! #vegan #organic #fresh #fruit #organic #healthy #healthyliving   #life ': 1,\n",
       "         \"first months, then weeks, now it's only days till the beginning of the end of @user i am both   and #sad at the same time.ð\\x9f\\x98\\x80ð\\x9f\\x98¢\": 1,\n",
       "         \"it's a firework!! weeheeeee~ ð\\x9f\\x8e\\x87ð\\x9f\\x8e\\x87ð\\x9f\\x8e\\x87ð\\x9f\\x92\\x83ð\\x9f\\x8f»ð\\x9f\\x92\\x83ð\\x9f\\x8f»ð\\x9f\\x92\\x83ð\\x9f\\x8f»ð\\x9f\\x98\\x81ð\\x9f\\x98\\x81ð\\x9f\\x98\\x81  â\\x80¦ \": 1,\n",
       "         '#blackpool   attack bull game 3d: do you really think that his head was empty around the city. each side is ': 1,\n",
       "         '  #fathersday to all our the amazing fathers out there today. ': 1,\n",
       "         'i just want to be  . is that too much to ask for? ð\\x9f\\x99\\x84': 1,\n",
       "         '@user ready and waiting! #newblood16   ': 1,\n",
       "         \"i'm sad. my aunt passed away. she was 96.   #funeral\": 1,\n",
       "         '7 horribly  ads from #2016 that made us cringe ': 1,\n",
       "         \"wouldn't mind robson-kanu at s6. decent player. available on a free transfer too  \": 1,\n",
       "         \" @user come on @user ...you can do better than this. please put yourself in @user 's shoes. unnecessary stress hâ\\x80¦\": 1,\n",
       "         \"stalk me. watch me. i'm just a peon. poor. disabled. kill me.this #usa is not the usa i used 2b proud of &amp; the universe doesn't care.  .\": 1,\n",
       "         \"#stephcurry's outburst begs the question: can christians get  ? #nbafinals \": 1,\n",
       "         \"i'm so   and #grateful now that - #affirmations \": 5,\n",
       "         '8 more weeks to go then im san antonio bound to see @user  i cant wait to see my little brother! #missyou   #mybrotherskeeper': 1,\n",
       "         'listen up &gt;&gt;&gt;&gt;&gt;&gt;&gt; ': 1,\n",
       "         '@user \"the dying of the light\"  village green/townÂ²  #antisemitism #hocoschools #columbiamd #hocomd': 1,\n",
       "         'hahaha.. this is me last #friday   &amp; #weird ': 1,\n",
       "         'hey, i noticed that u are a training lover, so i ask u to check my free app, it\\'s known as \"my training\" on apple ': 1,\n",
       "         'sexy as fuck #directioner   #niall #nialhoranfacts #niallerwins #hot #justindrewbieber #justindb #believetou... ': 1,\n",
       "         ' @user   #father\\'sday! say \"i love you\" to your dad right now! #sanya #whererefreshingbegins ': 1,\n",
       "         'guess who back, back again! #lifeaftersurgery ð\\x9f\\x91\\x8fð\\x9f\\x8f¼#dog #dogslife #labrador #labradorretriever #lifeofsam   ': 1,\n",
       "         'hey superspoilt, you may want to check  for latest updates on #glastofest ð\\x9f\\x94¥_ ': 1,\n",
       "         '@user @user @user @user @user    bihday sid... god bless you.. hav a successful career': 1,\n",
       "         \"nba finals = ambivalent , love steph and thompson, kyrie stinking it up, green is an class a doosh, lebron won't talk to guillermo  \": 1,\n",
       "         \"check out my production team's web-series episode that was edited by yours truly.   #mep #webseries \": 1,\n",
       "         \"@user you never answered me about your statement on the #nazi's over #hatred,  &amp; #bigotry being found wâ\\x80¦ \": 1,\n",
       "         '  #juneteenth #independenceday #food4thought #rich #ancestral #heritage @ independence hall ': 1,\n",
       "         '#river   gorilla simulator: you need to do to adapt to the environment. the need to tear the city. material ': 1,\n",
       "         \"watching the @user leadership embrace &amp; kiss donald's ass is #pathetic &amp;  . this is now the @user pay. a pay of racism &amp; hate. #ripgop\": 1,\n",
       "         'i love how i am so mature for my ageð\\x9f\\x98\\x87  ð\\x9f¤\\x91ð\\x9f\\x98\\x85': 1,\n",
       "         \" @user it's such a good feeling when this happens. #smile   #instalike #instamood #instapic \": 1,\n",
       "         'check it  #graffiti  #dublin #ireland #music #vimeo #movie #video #europe #people #flow #fun   #rafalwojcicki': 1,\n",
       "         '#oitnbseason4 in 2 days!!! aaahhhhh  ': 1,\n",
       "         \" @user it's @user #iampossible today! #extraordinaryladyspeaks #starawards   @user @user htâ\\x80¦\": 1,\n",
       "         'sun is out! happy thursday! â\\x98\\x80ï¸\\x8fð\\x9f\\x8c»â\\x98\\x80ï¸\\x8fð\\x9f\\x8c»â\\x98\\x80ï¸\\x8f #breakfast in the #sun   #day #sunnyday #sun #blueâ\\x80¦ ': 1,\n",
       "         'packing sneak-peek!   to be working with the #yellowjackets of the #neshl for 2016! @user #bhl #hockey ': 1,\n",
       "         'tony sunday! #tonyawards  ': 1,\n",
       "         \"happy father's day 2016 to my dad and all of the dad's out there!!  #fathers#day  #2016 \": 1,\n",
       "         \" @user theverdict is in; i'm an idiot #country #rock #bluegrass #beatles #love #pop   #romance  \": 1,\n",
       "         ' â\\x86\\x9d #projects of the week, june 13, 2016   #blog #silver #gold #forex': 1,\n",
       "         ' @user #300dayshappy @user #dayseventyseven #day77  #happiness #love#lifequotes #lifeâ\\x80¦ ': 1,\n",
       "         'my little brother has a higher tolerance of alcohol than me!   lol': 1,\n",
       "         'wishing this guy a   #bihday !!  blaze says @user is the spitting image of aâ\\x80¦ ': 1,\n",
       "         'i am thankful for hiking trails. #thankful #positive     ': 1,\n",
       "         \"all pay meeting to tackle a movie which uncovers a problem we don't want the world to know.  \": 1,\n",
       "         ' @user chill relaxing piano music to keep your pet #quiet and   during #july4th #fireworks  â\\x80¦ ': 1,\n",
       "         \"@user nothing says 'merica, like that @user tweet.   \": 1,\n",
       "         'always be   #paratyphoid ': 1,\n",
       "         ' @user \"today i lost a #thevoice sister senselessly - we sing for love not death people.\" #stopthehate #ripchristina   ': 1,\n",
       "         'some guys too concerned about their twitter \"brand\" to be honest with their followers.  ': 1,\n",
       "         \"i hate like 90% of my family.... i was really born into a big ass toxic bomb! mother fuckers don't give a fuck about me cuz i got money  \": 1,\n",
       "         'get #up get   get  #enjoy #music #today #free #apps #free #music ': 1,\n",
       "         'best #lawofattraction #resources for #healing!    #altwaystoheal #healthy is  ! #idwp ! ': 2,\n",
       "         'trump ny co-chair makes racist remarks about michelle obama  #p2 #p21 #fyi  #tcot': 1,\n",
       "         'are you a @user fan? this should make you      ': 1,\n",
       "         '#music as #therapy as a tool for #healing!   #altwaystoheal #healthy is  !! ': 3,\n",
       "         'how can food make a family fight mxm  ': 1,\n",
       "         'delicious sangria#salud#cheers #smile @ the pub pembroke ': 1,\n",
       "         'have a fabulous weekend beautiful souls #nofilter   ð\\x9f\\x98\\x98 ': 1,\n",
       "         \"when i'm feeling #overwhelmed and   i look down and see a million reasons to be #happy again. i love you craig!! \": 1,\n",
       "         'back to the day job for shane lowry!   ': 1,\n",
       "         '  hour right now! 2-4-1 bottles &amp; drinks from 4-7pm @user 42 w. chippewa st. #buffalo ': 1,\n",
       "         'anas + nimra + farishta + mawia + khushal  960 + 952 + 503 + 484 + 435 = 3334   the number of marks obtained is too damn high   :p': 1,\n",
       "         'my monday is so empty without the bachelorette ð\\x9f\\x98©ð\\x9f\\x8c¹ð\\x9f\\x8d· #thebachelorette   #empty #nowine': 1,\n",
       "         \" suppoing family, god, chivalry, tradition, and pride in one's heritage is now controversial.  \": 1,\n",
       "         '@user the pic says otherwise for young girls confined in that kitchen. you are void of meaning, beyond cheap publicity #topoli ': 1,\n",
       "         '#good night!  ??  #faith ever #vaitacacommafiasdv': 1,\n",
       "         'do what you love to do simply for the love of it. #love #success   #work #businessâ\\x80¦ ': 1,\n",
       "         'lunchtime with mom. #torrington #lunch #afterschool #instadaily #yummy   #withmom @user ': 1,\n",
       "         \" @user my sister ain't even know i was watching her argue with the nigga ð\\x9f\\x98\\x82ð\\x9f\\x98\\x82ð\\x9f\\x98\\x82 was waiting for him too say the wrong shit  \": 1,\n",
       "         'ride out, ride back ...done! #cycling #sunset   #ride #bikes #fitness #cardio #deseâ\\x80¦ ': 1,\n",
       "         'well i was gonna go see adtr with bae...  ': 1,\n",
       "         ' @user #tagsforlikes #me #food#friends#summer#swag#quotes #love#god#girl   #weekend #polaroid #followme #teen #win#job ': 1,\n",
       "         '#payintheusa   polar bear climb racing: angry polar bear climb racing, the polar bear living in cold place ': 1,\n",
       "         '11:11   healthy fam': 1,\n",
       "         'dream palace, can we move in already? #stellar   #girls #dreamy #goodmorning daysâ\\x80¦ ': 1,\n",
       "         'im waiting for a follow since the x factor   ': 1,\n",
       "         \"@user but it's your fault you have to use it to pointscore. \": 1,\n",
       "         \" @user this week staed off kinda lame but it's getting better! #yay   #wednesdaywisdom\": 1,\n",
       "         \" @user #forever @user   young man he luks too hot wen he is in temper i'll b alwys ur fan till my lst breathâ\\x98º hâ\\x80¦\": 1,\n",
       "         \"don't worry #bee   \": 1,\n",
       "         'double tap and follow me #beautiful #smooth #lifestyle #skin #instasize  #f4f #fashion  â\\x80¦ ': 1,\n",
       "         '#lawofattraction for #healing #loa   be #healthy   #well #idwp ! ': 1,\n",
       "         ' â\\x86\\x9d #oil turns flat to $50.40, eyeing eia inventory data for fuher direction   #blog #silver #gold #forex': 1,\n",
       "         \"training in new employee's is fun. #newblood  \": 1,\n",
       "         '  #first #bihday to our #puppy #eloise #sweetbabins #dog #growingup #cute #bihdaygirl @user ': 1,\n",
       "         ' @user   - 5,000 pigs burn alive in saskatchewan barn fire (video) ': 1,\n",
       "         \" @user you'll never convince me that americans have the right to bear these.   #prayfororlando #guncontrol \": 1,\n",
       "         'with my beautiful ladies!!! is a blessing to know them !!ó¾\\x8c¬ó¾\\x8c¬. #smile   #lovethemâ\\x80¦  ': 1,\n",
       "         'today baba siddique ifftar pay at mumbai. @user &amp; @user dono ayenge.   to see both again': 1,\n",
       "         '  hands | #ombre #blue ': 1,\n",
       "         \" @user i can't wait to go see warcraft, ugh ð\\x9f\\x98\\xadð\\x9f\\x98\\xadð\\x9f\\x98\\xad   #warcraft\": 1,\n",
       "         'cousins reunited...  #family#fun@user wellness ': 1,\n",
       "         \"at @user for 'an audience with duane henry ' ....should be very insightful  \": 1,\n",
       "         \"my train hasn't moved so i'm binge tweeting  \": 1,\n",
       "         'have my lover stop being angry at me visit us..&gt;&gt;&gt;  #lover   #friend #astrologer #love ': 2,\n",
       "         \"@user when you're blocked by a  troll because you promise to  #blacklivesmatter &amp; let his nonsensical rants boosâ\\x80¦ \": 1,\n",
       "         \"  father's day to all the dads here and the one's that are in heaven \": 1,\n",
       "         '#sdl326am @user   june 16 @user': 1,\n",
       "         'how creepy awesome are these baboons climbing the fire escape like humans on @user   #summev #zoo ': 1,\n",
       "         'use the power of your mind to #heal your body!    #altwaystoheal #healthy is  !! ': 1,\n",
       "         \"dude i'm a tiger! #roar #tiger #annaswelshzoo   #bihdaycelebrations \": 1,\n",
       "         \" @user we don't #laugh because we're happy... we're   because we laugh. - william james.  #xtra\": 1,\n",
       "         'have a happy sunday everyone! i think today is going to be a good day :) #positivevibes   #sunshine #sunday ': 1,\n",
       "         \"can we talk about the ways in which organizations dehumanize us? and how they're never held accountable?  \": 1,\n",
       "         'stuck in the rat race? find your freedom.   #masterkeyexperience ': 2,\n",
       "         \"i have to study...   #face #pizza (i stole my roommate's idea for taking this pic) \": 1,\n",
       "         'dinner with sister!! ð\\x9f\\x98\\x8aâ\\x9d¤ï¸\\x8fð\\x9f\\x91¯ð\\x9f\\x8e\\x89    #sisteradventures #sister #ilovemysisterâ\\x80¦ ': 1,\n",
       "         'who else is planning on watching @user tomorrow? ð\\x9f\\x98\\x8d   ð\\x9f\\x98\\x83': 1,\n",
       "         \"#usn rifle day 'snowed out', so ar-15 is closest to m-16 i ever got. @user @user @user   #navy\": 1,\n",
       "         'euro 2016: bbc pundits make their predictions for france  #euros sta today -    ': 1,\n",
       "         ' @user because i am happy! ð\\x9f\\x98\\x8eð\\x9f\\x98\\x8e #happiness #minions   ': 1,\n",
       "         'no elder scrolls for many years?!! wah wah    #bethesda #e3 #e32016': 1,\n",
       "         ' @user poor #tiggy ð\\x9f\\x98¢ and a little bit cheeky #jax &amp;   ð\\x9f\\x98\\x88 #soa #throwbackthursday @user @user @user ': 1,\n",
       "         'cannot wait for #eurogamer this year! #pumped   #eurogamer2016': 1,\n",
       "         'very   to work with russell.beckwith soon #staytuned ð\\x9f\\x93¸: my friend lyle!! #tapfoags ..â\\x80¦ ': 1,\n",
       "         'why the nazis studied american race laws for inspiration â\\x80\\x93  #ushistory  #eugenics': 1,\n",
       "         'sharing ice cream #sun #love #outdoors #picnic #summer #family #daughter #father #desse #icecream   ': 1,\n",
       "         'nothing like a river island sale shopping spree to cheer you up #retailtherapy #riverisland #shoppingqueen #alwayscheersyouup   ð\\x9f\\x91¸ð\\x9f\\x8f¼': 1,\n",
       "         \"cleaning ze house and zoing ziy laundry. ã\\x83\\x84 i'm finally free from fever and colds. â\\x88©__â\\x88©i'm happy! #cleaning #laundryday  \": 1,\n",
       "         '2 new listings are up!   #ebay     #woohoo #sell #selling #buy #shop #shopping ': 1,\n",
       "         'i am thankful for my challenges. #thankful #positive     ': 1,\n",
       "         'chilled night in with ice cream&amp; grown up2! #chilled  ': 1,\n",
       "         '@user #biherism absolutely originated in hateful  #bigotry #altright hatred of our african american #potus #theresistance': 1,\n",
       "         ' @user * sweets ð\\x9f\\x8d°ð\\x9f\\x8d©ð\\x9f\\x8d¬ð\\x9f\\x8d\\xadð\\x9f\\x8d«â\\x9c¨!!!!!! * #instagood #ì\\x95\\x84ì\\x9d´ë\\x8f\\x8c #å\\x81¶å\\x83\\x8f #idola #idol #à¹\\x84à¸\\xadà¸\\x94à¸\\xadà¸¥ #followme #selfie   #ã\\x81©ã\\x82\\x8bã\\x81\\x88ã\\x82\\x8câ\\x80¦ ': 1,\n",
       "         'all these tragedies in america first with the killing of #christinagrimmie and now #orlando #america is not a safe place to be today!  ': 1,\n",
       "         ' â\\x86\\x9d #brexit angst a factor helping drive down interest rates in germany and japan - bbh   #blog #silver #gold #â\\x80¦': 1,\n",
       "         'fab &amp; interesting day at #eacbpm. now dash to a quiet place to dial into iiba emea region meeting #busy   :)': 1,\n",
       "         \"kayak, sup, snorkel, swim...whatever your pleasure, we'll put it together!  #alohabeachbus   #hawaii #explore \": 1,\n",
       "         'u can hold a man down for years ...and watch him change on u over some hear say..    no loyalty.. no... ': 1,\n",
       "         \"we'll back going to tacloban now! see ya later!ó¾\\x8cµâ\\x9d¤   #great â\\x80\\x94 traveling to tacloban city from catbalogan \": 1,\n",
       "         \"@user how do you feel about that? you haven't won any olympics medal  \": 1,\n",
       "         'angry birds il film download ita â\\x80\\x93 720p hdtc (2016)    #birds #download #film #il #ita': 1,\n",
       "         '  #sunday to you all ð\\x9f\\x98\\x98 #photo by @user  #model #urbex #topless #tits #mono #retweet # #sexy #heels #ace ': 1,\n",
       "         'fo woh officer in viral arrest video was â\\x80\\x98rude not racistâ\\x80\\x99: chief  #crime #officerâ\\x80¦ ': 1,\n",
       "         '@user @user @user @user   saturday  friends': 1,\n",
       "         'yayyyy my friend got married today ð\\x9f\\x91°ð\\x9f\\x91°ð\\x9f\\x91°ð\\x9f\\x91«ð\\x9f\\x91« congratulations guys. â\\x9d¤ï¸\\x8fâ\\x9d¤ï¸\\x8f  #shegotmarried  â\\x80¦ ': 1,\n",
       "         'if lewis remains perfect, the rangers announcers are gonna stroke out.  ': 1,\n",
       "         'chris is so   to be back to #soccer after missing most of #spring #season with a brokenâ\\x80¦ ': 1,\n",
       "         'train tickets booked for my opera week in wales  ': 1,\n",
       "         \"it's a beautiful day..... #sun   #fun #beachpark @ beach park \": 1,\n",
       "         'the big screen is being fitted right now   #euros2016 ': 1,\n",
       "         'not all love stories are happy ending.  #anime #love #story #not   #ending #like4likeâ\\x80¦ ': 1,\n",
       "         '#poet   bull up: you will dominate your bull and you will direct it whatever you want it to do. when you sta ': 1,\n",
       "         'i am tranquil. #i_am #positive #affirmation     ': 1,\n",
       "         '@user is that the name of any upcoming new track? ð\\x9f\\x98\\x81ð\\x9f\\x98\\x81   #2pm #kpop': 1,\n",
       "         'best #essentialoils for #anxiety !!     #healthy   #peace !!  #altwaystoheal !! ': 1,\n",
       "         \"@user @user @user  wow some people's children have nothing better to do then insult people on twitter .  .\": 1,\n",
       "         'thinking maybe i should have bought @user instead of @user   #gettingold #becomingboring #notborderlands #goblizzard': 1,\n",
       "         'the fact that @user album is an hour away from dripping has me losing my mind..   #fatkidinacandystore': 1,\n",
       "         'ryderrideu - see you c2c and cum together: #snapshot #young #shy #kinky #wet #porn #hot   #xxx #horny #s... ': 1,\n",
       "         'ð\\x9f\\x8c¸ð\\x9f\\x8c»ð\\x9f\\x8c¼ð\\x9f\\x8d\\x83ð\\x9f\\x8cº snapchat: gaby_china20  #love #girl #snapchat   #flowers #instasmile #instaloveâ\\x80¦ ': 1,\n",
       "         'i am brilliant. #i_am #positive #affirmation     ': 1,\n",
       "         ' @user true :/ niggas dont go looking for apaments they go look at shoes and jewelry  ': 1,\n",
       "         '#msgapparelstoday  @user  u r so special 4 us   father day': 1,\n",
       "         'camping next weekend.   #lovecamping  #brownwood': 1,\n",
       "         'my #forever bestie ð\\x9f\\x92\\x8b #karaoke #friends #friendship #love #nofilter #instacool #instagood  â\\x80¦ ': 1,\n",
       "         '@user absolutely love this place. fantastic welcome from carlos, receptionist. 5th time here. room request granted as usual. #318  ': 1,\n",
       "         'headed to #thealter with my peculiar family!   ': 1,\n",
       "         ' â\\x86\\x9d #us retail sales control group likely rose 0.2% m/m in may â\\x80\\x93 danske bank   #blog #silver #gold #forex': 1,\n",
       "         'happy fathers day. you are love of my life &amp;the best father in the world. â\\x9d¤ï¸\\x8fð\\x9f\\x98\\x98 @user #fathersday #love   ': 1,\n",
       "         ' coolestlifehack: worlds smallest snake    #motivation': 1,\n",
       "         \"this is a shockingly   and increasingly #violent #world we live in and the #uk has gun control laws. i feel for the mp's family &amp; friends\": 1,\n",
       "         '  ? #funny ? or simply so #truestory :) ': 1,\n",
       "         'happy bihday to me!... brithday day holidays  #monday #menmodelsâ\\x80¦ ': 1,\n",
       "         'i am saddened that no-one has thought to groom her for the position before asking her opinion on such an issue.   ': 1,\n",
       "         \"ukrainians athletes are not in grosseto for @user ... watching livestream without seeing them it's not the same...  \": 1,\n",
       "         'new season of oitnb stas tonight ð\\x9f\\x99\\x8cð\\x9f\\x8f¼   #oitnbseason4 ð\\x9f\\x98¬ð\\x9f\\x98¬': 1,\n",
       "         ' @user excited to be on the other side of the cuain for once tonight. looking forward to seeing @user on broadwayâ\\x80¦': 1,\n",
       "         'when quay collab with @user says sold out!!!ð\\x9f\\x98©ð\\x9f\\x98«ð\\x9f\\x98©ð\\x9f\\x98«ð\\x9f\\x98©ð\\x9f\\x98«ð\\x9f\\x98©ð\\x9f\\x98«ð\\x9f\\x98©ð\\x9f\\x98«ð\\x9f\\x98©ð\\x9f\\x98«ð\\x9f\\x98©   #noooo #whyyyy #loveyoudesi # ': 1,\n",
       "         \"i'm   to finally get my #jordans and i get #paid to #wear them too! #lowtopsâ\\x80¦ \": 1,\n",
       "         'i am impressive. #i_am #positive #affirmation     ': 2,\n",
       "         \"  father's day to all the fathers out there out there making it happen ...... #salute to y'all ..\": 1,\n",
       "         'our view from the 27th floor! :) #nyc #newyorkcity #myview   girl #wine #fridaynightâ\\x80¦ ': 1,\n",
       "         \"discussing republicans is the same thing as critiquing . we can't ignore the consequences.\": 1,\n",
       "         'got school tomorrow my last integration  ': 1,\n",
       "         'amen!! truth. always. &lt;3 &lt;3  #love     #blessed ': 1,\n",
       "         \"@user and the stamford kid got 6 months for rape.but that wasn't boredom...it was 20 minutes of action.   .\": 1,\n",
       "         'lets colorized your life w/ rainbow #danian #love #colour #rainbow   @ depok ': 1,\n",
       "         '#aiel #aielmaharashtra rude customer care executive makes me want to switch my loyalty to another provider.   #irritated': 1,\n",
       "         'hi teddy corpuz... #rocksteddy #band #enjoy #idol   #omg ð\\x9f\\x98\\x8dð\\x9f\\x98\\x8dð\\x9f\\x98\\x84ð\\x9f\\x98\\x84ð\\x9f\\x98\\x84ð\\x9f\\x98\\x84ð\\x9f\\x98\\x84 ': 1,\n",
       "         \"@user wow, what a great daughter you are! to send that to your father right before father's day. #cheapshot #lowblow   #shame\": 1,\n",
       "         '6 reasons to be happyâ\\x80¦when your kid is mid-tantrum    #parenting #tantrum #toddler #calm #mindfulness   #strong': 1,\n",
       "         'i am truthful. #i_am #positive #affirmation     ': 1,\n",
       "         'yup #siri on #macos #wwdc2016 - :) woot! next did they work on her listening skills?  ': 1,\n",
       "         '#diy done! #dresser #nicknacks #newelectricscrewdriver   @ brockely london ': 1,\n",
       "         'are you #black &amp; feel like the  are stomping on you? â\\x80¦  #retweet #tampa #miamiâ\\x80¦ ': 1,\n",
       "         ' @user @user thats the problem, only one police officer. you need more, with bigger guns and perhaps one tank with soldiersâ\\x80¦': 1,\n",
       "         \"  father's day to all friends#\": 1,\n",
       "         \"if you're not   with your #choices this fall, you can #always write a candidate in.. â\\x80¦  \": 1,\n",
       "         '@user  #ë\\x8b¤ì\\x9d´ì\\x95\\x84_ê·¸ê¸¸ì\\x97\\x90ì\\x84\\x9c_ì\\x8a¤í\\x8a¸ë¦¬ë°\\x8d #ê·¸ê¸¸ì\\x97\\x90ì\\x84\\x9c #ì\\x97°ì\\x8aµì\\x83\\x9d   ending ': 1,\n",
       "         \"get to know the team behind the #app that's keeping our tummies   in our #june #issue @user #bazaarmagâ\\x80¦ \": 1,\n",
       "         'actually going fishing today somewhere nice â\\x98ºï¸\\x8fð\\x9f\\x98\\x8d.  ': 1,\n",
       "         'how cute, they both look like dolls. ': 1,\n",
       "         '@user i did and im  ': 1,\n",
       "         'love this vacation ð\\x9f\\x98\\x8a   #enjoy #greece #crete #sabinedrift #chillinn #blondegirl #bluedressâ\\x80¦ ': 1,\n",
       "         '@user unreal 3 advisors refuse to take my payment!?? and say wait for pcn is this customer service when ur site wasnt working??  ': 1,\n",
       "         \"@user i'm #gameready for forza horizon on the pc! what a time we live in...  \": 1,\n",
       "         ' @user life better in tahiti #summer #life #no_school #tahiti   #like': 1,\n",
       "         'i know their males but i thought they had a vagina like in video games xd #stupidthoughts #quote   #lmao': 1,\n",
       "         'pa of the pack was taken and brainwashed by cheetahs   #downasquadmember #treeouts': 1,\n",
       "         ' â\\x86\\x9d #japan domestic corporate goods price index (yoy) in line with expectations (-4.2%) in may   #blog #silver â\\x80¦': 1,\n",
       "         'remember the day when people on #bbuk went on to become reality tv stars, no it seems reality tv stars become big brother contestants.  ': 1,\n",
       "         '@user #allahsoil the more familiar we become the more difficult it is to stereotype. . â\\x80¦ â\\x80¦â\\x80¦ ': 1,\n",
       "         ' @user #good #morning ! if you want to live a   life, tie it to a goal, not to people or things. ': 1,\n",
       "         ' @user friday &lt;3 #fridayfeeling   #relax @user  #bristol ': 1,\n",
       "         '  days porn movie pussy pay pics  ': 1,\n",
       "         'it looked easy till my turn  #rap #hiphop #rock #funny #comedy #pop   #kanyewest ': 1,\n",
       "         'banner #merry #christmas and   #new #year  #freepik #ad #decoration newyear': 1,\n",
       "         '@user @user yay! thanks for letting me know. my pa will be a very happy man! :-)  ': 1,\n",
       "         'in my exam room ð\\x9f\\x98\\xadð\\x9f\\x98\\xadð\\x9f\\x98\\xad #testing #tired #annoyed #why  ': 1,\n",
       "         'best homeopathic remedies for #anxiety  -    #altwaystoheal   #healing #peace !! ': 1,\n",
       "         'rest in peace christina.     ': 1,\n",
       "         'those bamas you fool around with might be raising your child. ppl dont think that far in advance. they just see \"fun\" or whatever  ': 1,\n",
       "         'anti racist is a codeword for antiwhite   asia for the asians  africa for the africans  white countries for everyonâ\\x80¦ ': 1,\n",
       "         '.@user on #periscope: my first god baby graduated from high school!!! #collegebound   ': 1,\n",
       "         'nearly there folks   #nervous #curious just finalised my stuff with a few pointers from grainne #bringiton ': 1,\n",
       "         'fellowship. ð\\x9f\\x98\\x8a #lifegroup  ': 1,\n",
       "         \"i just caught myself eating chocolate sliced bread beside the ref realizing i still didn't eat my dinner.  \": 1,\n",
       "         '@user you #praised #cleveland police during #rnc the police are under a consent decree! 75% are #white  #tamirrice #rip': 1,\n",
       "         'everything you need for #surfday.  #fathersday to all the #dads out there from #novyspos.#novytowel#surfgear ': 1,\n",
       "         '@user 100% agree  ': 1,\n",
       "         \" @user our next show is monday at the fiddler's elbow in camden. it's looking like it's going to be a huge night!   htâ\\x80¦\": 1,\n",
       "         \"@user no swimming signs everywhere. parent's weren't watching a 2 year old.  \": 1,\n",
       "         'mitchellrattle mitchell goodson ': 1,\n",
       "         \" @user getting ready for saturday's jeep run with nbjc!    3 days until #showyourjeepday  #jeepmafia #jeeplife #jeep httâ\\x80¦\": 1,\n",
       "         '@user attempt at czech fury, only for croatia to score their second.   ': 1,\n",
       "         'the latest dairy k.s!  thanks to @user @user @user #ä½\\x90é\\x87\\x8eå\\x85\\x83æ\\x98¥  ': 1,\n",
       "         ' @user yep - grateful for everyday :)))) #gratitude  #laurasworld   ': 1,\n",
       "         \"i've had the ebook for awhile but it's so nice to have the hard copy!!!   \": 1,\n",
       "         'nba finals. game 7. what more could a basketball fan ask for?!   #nbafinals': 1,\n",
       "         \"@user that doesn't prevent you from being a  and a #bigot\": 1,\n",
       "         \"dear #uot, despite our attempts to #savecharity, i regret to announce that we've lost her!   #tragic #rip angelic friend. we will miss u!\": 1,\n",
       "         '  #space place  color #blue #fabricsourcing  or #finished #pillow #cushions  use usâ\\x80¦ ': 1,\n",
       "         'perfect moment of the day!!!   ': 1,\n",
       "         'waited for @user for an hour to come out just for an autograph, finally walk away...he comes out. of course! disappointing!  ': 1,\n",
       "         '  #fathersday!  gift your #dad a secured #financial #future! #save #insure #invest!   ': 1,\n",
       "         ' girls in the world sexy mature housewife ': 1,\n",
       "         \"time to get happy! it's saturday ð\\x9f\\x92\\x98    #saturday #weekend \": 1,\n",
       "         'to my 3 awesome dads.. my almighty father (my lord) my darling dad (rip, sweethea) my husband (my babies daddy/1st son)   #fathersday': 1,\n",
       "         'owens football tornament #football  ': 1,\n",
       "         \"come on #ee piss poor reception today Â£20 a month and struggle to get a signal in #buxton put more masts up or i'm switching   #grumpy\": 1,\n",
       "         'excited na me ð\\x9f\\x98\\x8dð\\x9f\\x98\\x8d ': 1,\n",
       "         ' @user let #troopingthecolour begin, we are very  .  bihdayyourmajesty #thequeenat90  htâ\\x80¦': 1,\n",
       "         '#work #fusiona wolves in last stage #development   #chase @user @user now ': 1,\n",
       "         \"@user i don't like the #blacklivesmatter slogan.  talk about being .\": 1,\n",
       "         'r.i.p little bear bear... #hamster #rip #imissyou   ': 1,\n",
       "         'give me a hug #love my cats  moment ð\\x9f\\x98\\x8d ': 1,\n",
       "         'your lips like fire, my blood like gasoline ð\\x9f\\x94¥ð\\x9f\\x92\\x98  #love #boyfriend #smile   ': 1,\n",
       "         \"here. we. go. let's do this people! #icrs2016  \": 1,\n",
       "         \"life isn't a race: allow yourself to be   in the present  @user #fun\": 1,\n",
       "         'dental  testimonials from our #lichfield clients -    ': 1,\n",
       "         'thank youð\\x9f\\x99\\x8fsoo muchð\\x9f\\x98\\x98 pretty @user i feel soo blessed &amp; lucky!!plz do keep showering ur lyks on með\\x9f\\x98\\x9d#surprised   #2likes #unexpected': 1,\n",
       "         \"@user @user @user nice 2c susanna smiling 2day,who needs false promises of flying dragons when she's got ben  \": 1,\n",
       "         '@user 1d not back yet  ': 1,\n",
       "         \"i got the call yesterday.  mom was diagnosed with stage 3 ovarian cancer.  i'm terrified, she's terrified.  just don't know what to do.  \": 1,\n",
       "         '@user #feminismiscancer #feminismisterrorism #feminismmuktbharat why  #malevote is ignored  @user': 2,\n",
       "         '@user @user @user is on the other side of history and our allies on this issue.  #embarrassing  ': 1,\n",
       "         \"fox new just coming out and saying it bluntly. one of the most  things i've read. \": 1,\n",
       "         'good morning all !  #internationaldayofyoga2016 #yogalove #yoga   #relax #healthy #positiveâ\\x80¦ ': 1,\n",
       "         '@user monkeys are also declared as vermin. no protest from bajrang dal?   @user @user': 1,\n",
       "         ' @user new plants from @user are here and ready for the garden at gardening know how!    ': 1,\n",
       "         ' @user coldplay last night with my fave ð\\x9f\\x91«ð\\x9f\\x92\\x83ð\\x9f\\x8f»ð\\x9f\\x92\\x95 #coldplay #conce #hampden #fave #couple #cute  â\\x80¦ ': 1,\n",
       "         \"  #flagday!   here's mine in this gorgeous #texas sky!  #householdname #takingoverâ\\x80¦ \": 1,\n",
       "         '@user yes lets do this,suppoing a openly ,#prowar #anti #islamic,#homophobic,#rapist,who advocates more of same,#hypocrite': 1,\n",
       "         ' , #cat, #furry, #persiancat | #4798 | pixion - wallpapers, images, a ': 1,\n",
       "         'good moooooorning #tgif ð\\x9f\\x92\\x8b  #kiss #kisses #friday #fridayfun   ': 1,\n",
       "         ' @user enjoy everything already given to you rather than always needing more. #blessed   #thankful ': 1,\n",
       "         '#euro2016 match schedule design - france vs romania  ! ð\\x9f\\x98\\x83  all feedback is appreciated! ': 1,\n",
       "         'for fathers day too should take your dad to @user for the 2 for $20 he will love it   ': 1,\n",
       "         'berlin before and after.  thank you so much @user - that was incredible. #theriveourberlin #theboss   ': 1,\n",
       "         'why listen incubus never hus! ð\\x9f\\x98\\x9cð\\x9f\\x99\\x8c #nowplaying #sick   #little #world - nissan #live #set de @user â\\x99« ': 1,\n",
       "         '@user anderson cooper &amp; don lemon will not like gays being thrown off buildings by sharia. #2ndamendment  ': 1,\n",
       "         'bei is   on a field for dog-walking.  #dogs ': 1,\n",
       "         'who would steal awork from @user #boohiss  ': 1,\n",
       "         'competing for a listing today!   #whenrealtorscompeteyouwin #callme #gotheextramileâ\\x80¦ ': 1,\n",
       "         '@user great park but a totally disorganised one!!! #poaventura #whatajoke  ': 1,\n",
       "         \"i've got news for you, bernie wasn't winning dc even if the vote was held last month. #dcvotes \": 1,\n",
       "         ' â\\x86\\x9d #eur/usd printing new monthly tops above 1.1400, draghi eyed   #blog #silver #gold #forex': 1,\n",
       "         \"our two presidential candidates, everybody. this is what we've devolved into. #elections2016 #america   #smh #usa \": 1,\n",
       "         'poor pup. #animals #puppy #vine #magic   #subscribe #youtube (vine by @user ': 1,\n",
       "         'rare pic of superstar @user with @user    bihday sivakoratala  :) ': 1,\n",
       "         '@user and @user how is it 2016 and i am moving just outside of downtown gr mi and neither of you offer better than 6 mbps.  ': 1,\n",
       "         ' @user wishing all the dadâ\\x80\\x99s a happy fatherâ\\x80\\x99s day! #dads #fathersday #2016 #intellicred   ': 1,\n",
       "         \"met this girl 5 yrs ago online b-ng gay friend. y does she look like this when she didn't b4?  @user \": 1,\n",
       "         'that face says it all!  #pwcproud  ': 1,\n",
       "         '| b u s y |    #love #instagood @user #tbt #cute #me #beautiful #followme  â\\x80¦ ': 1,\n",
       "         'enjoy this weekend with your family at your home. happy weekend my dear friends :)   #weekend #family #home... ': 1,\n",
       "         'another senseless tragedy.    #tragic #pulse #orlandostaystrong #thoughtsandprayersâ\\x80¦ ': 1,\n",
       "         ' @user loving #yrkkh frm the bottom of my hea frm the day it stared.. &amp; what do v get in return.. #uglyspat @user @user': 1,\n",
       "         'captain felix at rutland water. the little boat behind is about to go on a very grand adventure....  ': 1,\n",
       "         'binge watching series 1 of #thekilling so as to completely avoid football.  ': 1,\n",
       "         'to quote jeremy corbyn: \"here we, here we, here we fucking go!\"   ': 1,\n",
       "         'happyð\\x9f\\x92\\x99 #travel#time #instamood  #moments #love#mylife #russian#girl #model #4likeâ\\x80¦ ': 1,\n",
       "         ' porn vids wwwsmallgirlsexcom': 1,\n",
       "         ' @user #tuesday #jackie #quote #taketime to do what makes your #soul   #enjoylife #smile #believe #dream #havefun ': 1,\n",
       "         'home sweet home is what i call #edinburgh since moving there years ago! #scotland #homesweethome   #family  ': 1,\n",
       "         'play england vs russia in marseille at 21:00??? what did they expect? high risk game and plenty of time to drink...  ': 1,\n",
       "         'i am thankful for sweater weather. #thankful #positive     ': 1,\n",
       "         'haunting atmospherics #studiotime   ': 1,\n",
       "         '@user @user become a fan does not give the right to criticize the personal life of an idol.  ': 1,\n",
       "         'the latest obsidian radio daily!  thanks to @user @user @user  #latesnews': 1,\n",
       "         'mind-blown; learning so much in this google forms workshop.   @user #cfisdrrr': 1,\n",
       "         ' @user so sexy #prettypussy #sexybbw #realmvp ': 1,\n",
       "         ' @user back to @user after a v traumatic few months. damage not as bad as thought, proof the plan works! onwards &amp; upwards ð\\x9f\\x98\\x8a #excitâ\\x80¦': 1,\n",
       "         ' just more overwhelming evidence that the company #trump keeps echoes his sentiments &amp; ideals #dumptrump ': 1,\n",
       "         \" @user most of y'all females beefed out over these community dick ass niggas ,   ð\\x9f\\x92¯ð\\x9f\\x98\\xad\": 1,\n",
       "         \"people be like you already forgot so and so.... nah it's not that it's just new names are made a hashtag on a weekly basis  \": 1,\n",
       "         'how to be   ?!.i have the answer ð\\x9f\\x98\\x8að\\x9f\\x98\\x81': 1,\n",
       "         'cherry color is symbol of warm and positive energy necklace price: 200 aed #stones #gift #amazing #beautiful   ': 1,\n",
       "         \"i can't wait for the 2016/17 season to begin!   #lfc #ynwa #englishpremierleague \": 1,\n",
       "         \" @user happy father's day to all dads except #rogergoodell! #fathersday   #goodellsucksâ\\x80¦ \": 1,\n",
       "         ' â\\x86\\x9d #orb independent brexit poll shows leave vote ahead, gbp/usd slumps   #blog #silver #gold #forex': 1,\n",
       "         ' @user @user @user 25mm + 16mm = no washout no flooding good take and all set for another days golf   ': 1,\n",
       "         \"@user ya ever since zayne left they've never been the same  \": 1,\n",
       "         \"happy father's day â\\x80¼ï¸\\x8fâ\\x9d¤ï¸\\x8f  #loveyou #fathersday   #sunday #father #daddy dayâ\\x80¦ \": 1,\n",
       "         'big shock on monday-needed to find new home. yeah! found my dream cottage on tuesday  ': 1,\n",
       "         'save thousands $$ free search x logins x brokers    #actor #seeklearning   #stafresh ': 1,\n",
       "         'actually ordered a kylie lip kit  ': 1,\n",
       "         'i hope the family made arrangements to make sure that #bastard @user  canâ\\x80\\x99t get access.      ': 1,\n",
       "         'ð\\x9f\\x98\\x94   #socialmedia us firm to build 6 nuclear reactors in india  ': 1,\n",
       "         '#smaphone   bull up: you will dominate your bull and you will direct it whatever you want it to do. when y ': 1,\n",
       "         '#lifeisbeautiful #loveit #workhard #trainhard no matter where you go!   #blessed #fitlifeâ\\x80¦ ': 1,\n",
       "         'oscar tabarez talks luis suarezâ\\x80\\x99s angry reactionâ\\x80¦  #spos   #during #luis #oscar ': 1,\n",
       "         'now playing on #njoyhit40 #1hitmusicstation us uk eur @user   join us on  #nice #nyc @user': 1,\n",
       "         \" @user only 2 weeks to go and i'm a #personaltrainer full time   i will have new slots available from 30 june - pls spread tâ\\x80¦\": 1,\n",
       "         \"a mother can take care of ten children's but sometime ten children cant take care of their mother ,,,    \": 1,\n",
       "         'i am thankful for good nightsâ\\x80\\x99 sleep. #thankful #positive     ': 1,\n",
       "         'now playing  :  the bride - \"  nocturne\" on    #melancholy   #melancholymusic': 1,\n",
       "         '#tvk3fathersday   fathers day to all tatay daddy enjoy wathing tha voice kids': 1,\n",
       "         'i am thankful for my friends. #thankful #positive     ': 1,\n",
       "         'i am thankful for mason jars. #thankful #positive     ': 1,\n",
       "         '\"nigger?\" #lifelessons of a white kid who grew up in the 60\\'s. #blogpost  #whitepeople #respectâ\\x80¦ ': 1,\n",
       "         '@user @user @user congrats!   for @user': 1,\n",
       "         'via jts88: @user ó¾\\x8c§ #love #sinkthepink #music #instagay #celebspot  ... ': 1,\n",
       "         '@user ready for @user at #ccmf2016 !!   #mychurch #frontrow #upshow ': 1,\n",
       "         'how utterly  :  people with incurable #stupidity in #africa albino killings in malawi spark education campaign ': 1,\n",
       "         ' â\\x86\\x9d #gold off highs, back around $1,260   #blog #silver #gold #forex': 1,\n",
       "         'shocking events in orlando - now will the usa review their gun laws or do more innocents have to die first? #horrific #unforgiveable   :(': 1,\n",
       "         'i am knowledgeable. #i_am #positive #affirmation     ': 2,\n",
       "         'with le sister! #instatraveling #instamoment #igdaily #instagramhub #instagood #instalike   ': 1,\n",
       "         '..feeling so #lonely..and  ..': 1,\n",
       "         '#girliguessimwithher tag is the saddest representation of how people feel they are now forced to vote for \"her\"   ': 1,\n",
       "         'the h factor! does your #mobile app make the user  ? want more factors? click to download aricent #whitepaper ': 1,\n",
       "         '@user meanwhile google violates free-speech at will  ': 1,\n",
       "         'happy at work conference: right /mindset leads to culture-of-development organizations    #work #mindset': 1,\n",
       "         \" @user #rochester   attack bull chase: when you leave the lot despite the fact that you're a strong source of f \": 1,\n",
       "         \"i'm in the @user competition!!! ð\\x9f\\x8e\\x89ð\\x9f\\x8eµð\\x9f\\x8e\\x89ð\\x9f\\x8e¤ð\\x9f\\x99\\x8cð\\x9f\\x8f¾â\\x9c\\x8cð\\x9f\\x8f¾ï¸\\x8f  \": 1,\n",
       "         '#tattoosleeves   gorilla simulator: you need to do to adapt to the environment. the need to tear the city. m ': 1,\n",
       "         'ima go cry for a few hours brb  ': 1,\n",
       "         'i #tell my sorrow to the #river so that the river taught me how to flow without the #complain -sepatu dahlan-   #philosophy #proverb': 1,\n",
       "         'i am thankful for memories. #thankful #positive     ': 1,\n",
       "         '@user you surely are a nasty piece of work! lmao.  ': 1,\n",
       "         'today is a perfect day to be  ! #happiness #lifecoach #reinventimpossible ': 2,\n",
       "         '  after sex over 40 sex nake women  ': 1,\n",
       "         'i am thankful for cocktails. #thankful #positive     ': 1,\n",
       "         'dont wait #outside #thepeel 4 #work #homophobic #taxi #driver #guys #kiss there #gay #melbourne #13cabs     ': 1,\n",
       "         \"@user guess no one wanted to let the residents of spring street know they wouldn't be able to leave for a few hours today.  \": 1,\n",
       "         'great morning deborahð\\x9f\\x8c»ð\\x9f\\x8c».@user #smiles and #kindness ð\\x9f\\x92\\x96  day!ð\\x9f\\x98\\x80ð\\x9f\\x91\\x8b': 1,\n",
       "         '_  #windows10 split screen #browser! #customcasetab     #noedit  712': 1,\n",
       "         \" @user people use tragedy like this to fuel their hate agenda towards entire groups of people and that's the opposite of helpfulâ\\x80¦\": 1,\n",
       "         'taeyeon unnie is on fire! ð\\x9f\\x92\\x93 btw i really hope that her album cover is not yellow lol   #why ': 1,\n",
       "         'john mica...how the hell are people like you elected @user @user #totalpolitician #outoftouch #disgraceful  ð\\x9f\\x98\\x93': 1,\n",
       "         'nothing makes dad happier than a tasty meal!   #fathersday ': 1,\n",
       "         'the   #truth about #suicide rates in young #blackboys ': 1,\n",
       "         'happy sunday #homesweethome #amazing #love #istanbul #girl #beautiful   #instalike #meâ\\x80¦ ': 1,\n",
       "         'oh she blocked me.   at least i have love island to look forward to on sunday :)': 1,\n",
       "         'now playing  :  suzanne ciani - \" 4 o\\'clock in the morning\" on     music song ': 1,\n",
       "         'swing ð\\x9f\\x98\\x8aâ\\x9d¤ï¸\\x8fð\\x9f\\x91¶ #swing #mybabygirl #baby #littlegirl #park #love #cute   ': 1,\n",
       "         'help! bubble attack! #winter #bathtime   #cozy ': 1,\n",
       "         'i am moving. #i_am #positive #affirmation     ': 1,\n",
       "         'the thing is, no matter how many laws and regulations there are with guns, people will still find a way to get their hands on them.  ': 1,\n",
       "         ' @user   #sunflowers - #nature #garden #photograpy quality prints &amp; cards at: ': 1,\n",
       "         '@user didnt stay for long had an emergency at home  my daughter was not well soo i had to rush home and i missed ur set  ': 1,\n",
       "         ' @user great insights on trusted professions in emea at #growth #hacking #conference at #growthwithhubspot.  ': 1,\n",
       "         'carolyn cooper | ugly, poor, ignorant and black!  ': 1,\n",
       "         'franklin is a   #dog in the #sunshine #dogsoftwitter ': 1,\n",
       "         'perfect day= buy real furniture, hiking, @user for dinner, @user for desse!ð\\x9f\\x8e\\x89ð\\x9f\\x98\\x8að\\x9f\\x91\\x8d #sleepnumber #bonustolongrest #dnd  ': 1,\n",
       "         'happy face lovely smile @user #satisfying #hair #workit #smile   #faceâ\\x80¦ ': 1,\n",
       "         'ð\\x9f\\x92\\x97ð\\x9f\\x92\\x97ð\\x9f\\x92\\x97 love you. ð\\x9f\\x92\\x97ð\\x9f\\x92\\x97ð\\x9f\\x92\\x97 . #sunday #weekend #selfie #longhair #girl #selfporait   #loveâ\\x80¦ ': 1,\n",
       "         '#nature_perfection   bull hill climb: you have to reach the target to complete the task to survive. with str ': 1,\n",
       "         'orlando gay men angry they can&amp;#039;t donate blood after massacre -    ': 1,\n",
       "         ' @user  golinglobal \" golinuntern: fresh air, trail running, and a   soul. keeping the #golinuntern life balanceâ\\x80¦ ': 1,\n",
       "         ' @user @user monroe&amp;nick best friends, &amp; rosalee&amp;addie and now kelly&amp;babymonrosale #grimm   families #nadalind': 1,\n",
       "         '@user or lying hillary would call it a \"security inquiry\" liberals are like minded if one eats shit then all of them eat shit.  ': 1,\n",
       "         'you know what i find incredibly #disrespectful!?  taking a personal call during a meeting.    #frustrated ð\\x9f\\x98\\xa0 ': 1,\n",
       "         \"date night #friday #pub   #ilovehim #instagay #beer @ billy's on burnet \": 1,\n",
       "         \"i wish @user would make their phones so the damn screens don't shatter they cost an arm and a leg and still gotta pay to fix em  \": 1,\n",
       "         'this is so hea wrenching! what would be the state of the mother, when she knows her son is about to die :(    ': 1,\n",
       "         ' @user how times fly! less than a week to go until the brilliant @user leads our summer conference   ': 1,\n",
       "         'fruit time   #fruit #desse #instamoment #photooftheday #yvr #sweet #vancitybuzzâ\\x80¦ ': 1,\n",
       "         ' so sad ones  &gt;&gt;&gt; ': 1,\n",
       "         'sirf ashiq log follow karen #iqbal #galib #wasi #faraz #mohsin ki full   poetry + #no add + follow @user': 1,\n",
       "         ' @user 28 minutes to go #armaanamaalontkss @user @user @user  ': 1,\n",
       "         'thank god for the #royals of 2015 because without it kansas city is right down there with #cleveland  #disgraced  ': 1,\n",
       "         'will get to see my favorite person tmrrw    ': 1,\n",
       "         '#latina   buffalo simulation: buffalo for you to take in the vicinity of their homes to do. in this way, you ': 1,\n",
       "         'what a world we live in.. #orlando  ': 1,\n",
       "         ' @user now the vacation has begun...   #triathlete #triathlon #coach #vacation #fearless #rulâ\\x80¦  httâ\\x80¦': 1,\n",
       "         '@user a bit of heabreak too! #reflective  ': 1,\n",
       "         ' @user peaceful way to sta the morning before the daily chaos beginsð\\x9f\\x98\\x8a #gratitude   ': 1,\n",
       "         'hardcore girls videos   birday sex xxx   ': 1,\n",
       "         '#takalot book order arrives in time for a long weekend away in the bush.   #bengreenfield ': 1,\n",
       "         '#saysomething   bull up: you will dominate your bull and you will direct it whatever you want it to do. when ': 1,\n",
       "         \"steph. san kana?? your 3's are badly needed. please ð\\x9f\\x99\\x8fð\\x9f\\x99\\x8fð\\x9f\\x99\\x8f \": 1,\n",
       "         ' @user another hands &amp; feet complete!! berachah you are the best !!  &amp;tired ': 1,\n",
       "         '@user on my way over ctf to have a book talk with the inmates paicipating in the @user book club program #slugg  ': 1,\n",
       "         'ready for thisâ\\x9d\\x93 #awesome #beat #cool #dj #dance #edm #house #goodmusic   #madnessâ\\x80¦ ': 1,\n",
       "         ' â\\x86\\x9d #jpy: negative external environment remains suppoive â\\x80\\x93 mufg   #blog #silver #gold #forex': 1,\n",
       "         '$24.99-mkf collection jasmine and moira crossbody bags    wednesday': 1,\n",
       "         \"currently out to eat at #steakandshake and i've been here for 20 minutes and not gotten the shake i ordered #not  .\": 1,\n",
       "         'gray is a very sad color it makes me feel   #grayneedstogo': 1,\n",
       "         'difficult roads often lead to beautiful destinations. anon #leadership #inspiration  #quote #inspirational  ': 1,\n",
       "         ' â\\x86\\x9d #usd long positions added, eur shos increased - anz   #blog #silver #gold #forex': 1,\n",
       "         \"it's #r1rockalldayer on @user for me it's @user day!   #noise\": 1,\n",
       "         '@user no, he was definitely a  mexican. #fakenewsale': 1,\n",
       "         '@user when is the new album being released about @user and your break up?   #loveherbreakups #hotgoss': 1,\n",
       "         'standing up to racism and hate by americad not curse out congress and all haters  who are deplorable  #hateâ\\x80¦ ': 1,\n",
       "         'you are my â\\x98\\x80#sunshine, my only â\\x98\\x80#sunshine. you make me ð\\x9f\\x92\\x9e  when skies are â\\x98\\x81gray. ': 1,\n",
       "         'something i wanted to say, something that makes me happy . #gaming #gamer #xboxone #playstation @user #e32016   ': 1,\n",
       "         \"the football is actually the only thing on at mo that's watchable!! #bringbackgladiators!\": 1,\n",
       "         'happy hump day ð\\x9f\\x91\\x8cð\\x9f\\x8e\\x8að\\x9f\\x8e\\x89 #humpday   #life #lifestyle #wednesday #midweek #snapchat #walrus #funnyâ\\x80¦ ': 1,\n",
       "         'let me just say .. i love being me  ': 1,\n",
       "         \"don't worry, be happy  via @user #archiveday #weekendblogshare #happiness   #quotes #tshis\": 1,\n",
       "         'because great things never came from comfo zones... #goodtogreat #inspireme #love   ': 1,\n",
       "         'happy puppy ð\\x9f\\x90¶ð\\x9f\\x92\\x95 #london   #puppy #thursdaymotivation ': 1,\n",
       "         \"i don't know where you're going but do you have a room for one more troubled soul? #a #drawing #blackandwhite   \": 1,\n",
       "         'we recommend these dark &amp;   #romances:  | #horror #moviegenres #ambiance': 1,\n",
       "         '@user #trump used #hate,  and #putin to win the white house #trump presses attack on khan family and g.o.p. leaders ': 1,\n",
       "         \"one of my bucket list items ticked tonight i finally saw ice cube live tonight ð\\x9f\\x98\\x81  ! #wildlifefestival  'today was a good day' ð\\x9f\\x98\\x9d\": 1,\n",
       "         'my friends magical potion... #ewabeach #magicalhappydrinks   @ ewa beach house ': 1,\n",
       "         'everytime i wear soccer shis joie fries me and says i look mexican as fuck ð\\x9f\\x98\\x92 ': 1,\n",
       "         \"it's been a weird few months but finally feeling more positive about life lately   #pleasedontchange ð\\x9f\\x98\\x81\": 1,\n",
       "         'checked in #holiday     #croatia #13daystogo': 1,\n",
       "         '@user   night a sweet dreams..': 1,\n",
       "         'nyc in seven days ð\\x9f\\x97½ #newyork #newyorkcity #travel #bigapple   ': 1,\n",
       "         'life is what you make it. letâ\\x80\\x99s make it  ! #motivation ': 2,\n",
       "         '#fashionblog   rooster simulation: i want to climb the vast expanse of mountains. it reached the leakage coc ': 1,\n",
       "         'in the best mood ever!!!   #becauseofhim #inlove ': 1,\n",
       "         \"be happy don't worry! ð\\x9f\\x98\\x89   #smile #love #iminlove #iam #im #in #nice #day \": 1,\n",
       "         ' @user #monaco#resto#chezedgard#grandprixf1# #essais#sun#lewissuppo#ð\\x9f\\x8f\\x8eð\\x9f\\x8f\\x8e# @user #amour #love   â\\x9d¤ï¸\\x8f ': 1,\n",
       "         \"just bought: 'launch: using design thinking...by @user &amp; @user via @user -   #toread #letsmake \": 1,\n",
       "         '#sukhbir #badal announces more office-bearers of   #eastcoast zone #canada  ': 1,\n",
       "         'so mad that i chose dj snake over zedd at edc  ': 1,\n",
       "         'mango wood lett... gbp 19.99 get here:  #shop #cool   #home #fun ': 1,\n",
       "         'the danger of white liberalism to oveurning  (applies to liberal men and feminism too)  ': 1,\n",
       "         ' @user @user @user truly truly pathetic in so many ways @user @user @user nothing learned from the coverinâ\\x80¦': 1,\n",
       "         'monday mornings working by the lake #scottieandrussell #work #love   #picofthedayâ\\x80¦ ': 1,\n",
       "         \"i'm loving this rain! hope it hangs around a while ð\\x9f\\x98\\x8a #rain #water #tbt #me #weather #bribieisland   \": 1,\n",
       "         '@user you have chosen the wrong horse and unless you change your mind soon, it will be the end of your political career.  ': 1,\n",
       "         ' @user weddings are impoant because they celebrate life and possibility. â\\x80\\x94anne hathaway #wedding   #love ': 1,\n",
       "         '#icymi: shooting at orlando nightclub kills about 20, police say  #debeloping   #guns ': 1,\n",
       "         '@user @user snatched some of these this past week!   #schoolsupplies': 1,\n",
       "         'great aicle. right on the money! #starspangledbanner #slavery #apaheid  #usa ': 1,\n",
       "         'babies was born. welcome to new world cats! #babiescat #cat #newborn #congratulations  â\\x80¦ ': 1,\n",
       "         \"ð\\x9f\\x91\\x89ð\\x9f\\x8f»#pretending#to#be #when #you're#in#pain#is#just#an#example #of#how#strong#you#are#as#a #personð\\x9f\\x91\\x88ð\\x9f\\x8f» ð\\x9f\\x98\\x8að\\x9f\\x92ªð\\x9f\\x8f»ð\\x9f\\x92ªð\\x9f\\x8f»ð\\x9f\\x92ªð\\x9f\\x8f» #nightyð\\x9f\\x98´\": 1,\n",
       "         ' @user @user @user @user @user   evening my dear cutysð\\x9f\\x98\\x8dð\\x9f\\x98\\x8dð\\x9f\\x98\\x8dð\\x9f\\x98\\x8dð\\x9f\\x98\\x8dð\\x9f\\x98\\x8dð\\x9f\\x98\\x9að\\x9f\\x98\\x9að\\x9f\\x98\\x9að\\x9f\\x98\\x9að\\x9f\\x98\\x9að\\x9f\\x98\\x9að\\x9f\\x98\\x9að\\x9f\\x98\\x9að\\x9f\\x92\\x9fð\\x9f\\x92\\x9fð\\x9f\\x92\\x9fð\\x9f\\x92\\x9fð\\x9f\\x92\\x9fð\\x9f\\x91\\x8dð\\x9f\\x91\\x8dð\\x9f\\x91\\x8dð\\x9f\\x91\\x8d ': 1,\n",
       "         '@user @user its all about me mentality of our culture   #mentalhealth': 1,\n",
       "         ' @user wishing all of us a very   #weekend ð\\x9f\\x98\\x98ð\\x9f\\x92\\x95 ': 1,\n",
       "         'i am thankful for freezers. #thankful #positive     ': 1,\n",
       "         ' @user ready for &lt;a&gt; full day of &lt;html&gt;, from @user to @user   #cssday': 1,\n",
       "         'bihday cake i made for my mom!   #bihday #mom #fondant #pumpkin #chocolate #delicious #beautiful #amazing ': 1,\n",
       "         '@user thank you!! the power of #social #media!   @user #aande ': 1,\n",
       "         ' @user this made me smileâ\\x98ºï¸\\x8fð\\x9f\\x99\\x86 #bigbang   #babies   cto ': 1,\n",
       "         'sending good vibes your way! happy friday! #tgifriday #goodvibesonly #becauseimhappy   #smilemore ': 1,\n",
       "         \"#letsgo #agents #tooeasy 10 more days till #dlc i know i'm   . #gamingforeveryone \": 1,\n",
       "         'holy city#tissues !': 1,\n",
       "         '@user how old is your mom  bihday ð\\x9f\\x98\\x83': 1,\n",
       "         ' @user what did you decide?   #fowoh #goldenretriever #lcck9comfodog #workingdog ': 1,\n",
       "         '@user gets him angry.  a muslim assassinating 50 not so much.    ': 1,\n",
       "         'ð\\x9f\\x92«we out hereeeee ð\\x9f\\x94¥ð\\x9f\\x8e\\x89ð\\x9f\\x92\\x83ð\\x9f\\x8f»ð\\x9f\\x8e¶ @user ericprydz #edc #music #musiclife #edm #dance   #girlsâ\\x80¦ ': 1,\n",
       "         '#funny thing about #humankind... we watch the #news, feel   #bad etc then back to \"open for business as usual! not #good re the #future!': 1,\n",
       "         \"@user and you keep telling that only aryans are allowed to rape women! you're just a  troll! #eod @user @user\": 1,\n",
       "         \" @user speechless when it comes to all the shootings recently. i guess people have nothing to lose and don't have any respectâ\\x80¦\": 1,\n",
       "         ' @user as forecasted, the beautiful waves of raalhugandu has disappeared due to construction of the bridge.&amp; theres no hope of it comâ\\x80¦': 1,\n",
       "         '@user any minute #trump will condemn the  #vile #bigoted comments of #his #surrogate #carlpaladino #endhateâ\\x80¦ ': 1,\n",
       "         \"#wishing all wonderful #dads a   #father's #day..let's #rock today at red rascalsâ\\x80¦ \": 1,\n",
       "         '@user #allahsoil vps got multi-million dollar bonuses while average americans lost their homes.  â\\x80¦â\\x80¦ ': 1,\n",
       "         'i love #abrahamhicks and #lawofattraction !!   #healthy #healing   #joytrain !!    ': 1,\n",
       "         'signed up for my first bikram yoga classâ\\x98ºï¸\\x8f  ': 1,\n",
       "         'think   thoughts and they will shine from your face like sun beams. quote #smile ': 1,\n",
       "         'if you want creative workers, give them enough time to play.   #success #quote  ': 1,\n",
       "         'my hea prayers are with the orlando victims, their families and the lgbt community.  ': 1,\n",
       "         '25 jan. interested in how #discrimination and  has affected the criminal justice system? ': 1,\n",
       "         'friends forever ð\\x9f\\x92\\x97ð\\x9f\\x92\\x97 #friends#sweden#reunion #grateful#love @ egna hem ': 1,\n",
       "         'keep up the opposition to  @user #endthenation': 1,\n",
       "         'ð\\x9f\\x8d\\x95ð\\x9f\\x8d\\x95ð\\x9f\\x8d\\x95 love pizzaâ\\x9d¤ï¸\\x8f #pizzaslice#pizzaslice2#aoyama#pizza#yummy#delicias #goodtimeswithgoâ\\x80¦  ': 1,\n",
       "         'my two loves #beer #craftbeee #dog #malinoislovers #malinois #passion   #friend ': 1,\n",
       "         'i am abundant. #i_am #positive #affirmation     ': 1,\n",
       "         ' fathersday  #fatherÃ¢Â\\x80Â\\x99s #day, #dad #| #skinny #and #single buy things about \"hâ\\x80¦  ': 1,\n",
       "         '@user rickity..rick.. rickity...rick.. as the same ole broken down wagon is  looking to find the next mateen to jump on board.  ': 1,\n",
       "         'love this city, great day in #cleveland! #home   #calm â\\x9d¤ï¸\\x8f ': 1,\n",
       "         'i guess @user is talking about progress in the advancement of , #misogyny, #homophobia, #bigotry': 1,\n",
       "         'teen girl killed, 3 others injured in downtown oakland shooting. #guns #mentalillness #gangs ð\\x9f\\x87¨ð\\x9f\\x87¦ð\\x9f\\x87¨ð\\x9f\\x87¦ð\\x9f\\x87¨ð\\x9f\\x87¦ is   #orlando ': 2,\n",
       "         '\"to everyone going through any struggle or pain right now, keep your head up, and keep on smiling, you\\'ll get through it.\" i hope so  ': 1,\n",
       "         'good evening my darling instagram babies.   #blessed #lipstick #makeup #fun #grateful #share ': 1,\n",
       "         '@user jake is right, 2 many ppl lack the will power to take a stand &amp; drown the small minded &amp; oft evil tendencies of past ': 1,\n",
       "         'i really hate hipocrit politicians which is just about all on all sides... we deserve better as citizens. ..  ': 1,\n",
       "         ' @user .@user @user where is environmental wellbeing?  the \"plan\" is only about sites - nothng todo  with wâ\\x80¦': 1,\n",
       "         '  bihday sway  bihday sway bihdayé\\x87\\x8eæ\\x9b¿æ\\x84\\x81å¹³  bihdayé\\x87\\x8eæ\\x9b¿æ\\x84\\x81å¹³ ': 1,\n",
       "         '  #saturday #morning, now go back to sleep. #thetrust #comusic #indie â\\x99«  faded away -  johnmaun. listen @user ': 1,\n",
       "         'i was founate to have this man in my life every single day.   #father #day to all. ': 1,\n",
       "         \"@user @user gutted didn't know that you were here tonight i would have been there #good luck  \": 1,\n",
       "         'beginning to think @user is a tom brady hater, the way he goes on about the man!  ': 1,\n",
       "         'the attack in #orlando has caused a lot of pain to many people. #vengeance is not an option. we are all very  , lets comfo each other': 1,\n",
       "         'cuteness overloaded ð\\x9f\\x92\\x9c let your life fills with love and sweetness ð\\x9f\\x98\\x8dð\\x9f\\x98\\x98 #live_long   married life ': 1,\n",
       "         'heading to #graduation @user   #mechtechplumbing #futureplumber #proudmama ð\\x9f\\x98\\x82 ': 1,\n",
       "         '@user .@user is it possible for you to speak in any topic without bringing race into it, you bigot? @user  â\\x80¦': 1,\n",
       "         'ours, too. so much terribly   news over the weekend! #orlando #christinagrimmie #prayers  ': 1,\n",
       "         'do more of what makes you  .  #innovative_nous': 1,\n",
       "         '[1465876849.66] update @  #social #analytics #instalike #tbt #yoga   #summer #fun ': 1,\n",
       "         '#rushlimbaugh does his incredibly  obama impression.  via @user': 1,\n",
       "         '@user @user we, the people, are failing our fellow citizens.       ': 1,\n",
       "         'staing to pack for my move! ð\\x9f\\x99\\x8cð\\x9f\\x8f½ð\\x9f\\x8f¡ð\\x9f\\x98\\x84   #newflat': 1,\n",
       "         'he is my first love. i may not be his, but he makes me feel like i am. #love #cheese #shotermlongdistance  ': 1,\n",
       "         \"@user just youtu bed them two and they don't get on now   #friendship\": 1,\n",
       "         'if you want to be  , be kind to the #poor; it is a #sin to despise anyone.  #jesus #faith #believe #wisdom': 1,\n",
       "         \"have a nice life. i'm done trying to be in it.   #lovequotes\": 1,\n",
       "         'the latest positivementalattitude!  thanks to @user @user @user #positive  ': 1,\n",
       "         'you want to spark a serious debate about gun violence release the photos of the bodies inside the club. #orlandoshooting #gunviolence  ': 1,\n",
       "         'just arrived in blagoevgrad fo #zaz conce feeling   under the #umbrelas ': 1,\n",
       "         '.@user a number of our leaders are coming  ': 1,\n",
       "         'so   to see @user at #tcashowroom yesterday ð\\x9f\\x98\\x99ð\\x9f\\x91\\x8c ': 1,\n",
       "         \"@user isn't mean to me so that means he doesn't like me ð\\x9f\\x98\\x95  \": 1,\n",
       "         'great way to spend a saturday ð\\x9f\\x98\\x8e #relaxation #positivevibes #california   #cakesbytheocean ': 1,\n",
       "         ' â\\x86\\x9d #eur/usd could test 1.16 near-term â\\x80\\x93 westpac   #blog #silver #gold #forex': 1,\n",
       "         \"he has no money. campaign asking for $100k donations by midnight to fight hrc's ad buy.   #brokedonald #lyindon \": 1,\n",
       "         'today calls for champagne ð\\x9f\\x8d¾ð\\x9f\\x8d¾ð\\x9f\\x8d¾ #friday #fridayfeeling #friyay #goodweek   #clients #hairâ\\x80¦ ': 1,\n",
       "         '@user @user @user rightly so! gop hates trump more than obama  ': 1,\n",
       "         '@user @user @user @user @user @user @user @user   sunday hugs': 2,\n",
       "         'just the 2 of usâ\\x9d£â\\x9d£â\\x9d£â\\x9d£â\\x9d£â\\x9d£â\\x9d£ #me #selfie #myfriend #loveher #giannena   #smile #thecomeback ': 1,\n",
       "         \"in that moment, she decided she needed more. a switch to control life's response. default.   \": 1,\n",
       "         'now playing  :  yiruma - \" kiss the rain\" on     music song ': 1,\n",
       "         'so simple, but so true. becoming all we are capable of being!    #burnsurvivor #dolbf #motivation #motivate ': 1,\n",
       "         'back...who missed me?....#greatfultogod #beendoinggreat    #selfie ': 1,\n",
       "         'do not! i repeat, do not put a dog in a hot car and leave them there in the heat! keep them home! for fucks sake!   #dogs': 1,\n",
       "         'what a splendid #nosie,   me, probably not this #year #wrc #rallypoland @user @user ': 1,\n",
       "         '2 hours to go until our music video is released! #music   #edinburgh #scotland #band @user #musicvideo #a @user': 1,\n",
       "         '@user he is confirmed dead...according to farrah gray   #pulseshooting': 1,\n",
       "         'look at journeys left and right foot stage ð\\x9f\\x94¥ð\\x9f\\x94¥ð\\x9f\\x94¥ð\\x9f\\x94¥ð\\x9f\\x94¥  !!!!!! ': 1,\n",
       "         'black professor makes assumptions about an entire race whilst speaking for entire race. next week the jews!â\\x80¦ ': 1,\n",
       "         'back to music\"now playing michael jackson(the lost children)   unificationsday\"and may god all the children &amp; their families#33!smile': 1,\n",
       "         '#drakeandjosh   buffalo simulation: buffalo for you to take in the vicinity of their homes to do. in this wa ': 1,\n",
       "         '#trumpusa when they call us   #homophobic #misogynist they are really saying they are jealous of us wâ\\x80¦ ': 1,\n",
       "         '@user i think you should suspend indefininetly that racist staff ': 1,\n",
       "         '*she sat alone and let out a sad sigh* #openrp   #bored': 1,\n",
       "         \"good morning #manchester a quick preview of a new #gin that we'll be launching very soon!   about this one! \": 1,\n",
       "         \"tried on the new @user #trailn2v3 today! although they feel very similar to v2's, the v3's are smoother and feel great!  \": 1,\n",
       "         'kiki felt ignored today @user make kiki dance again #kikidance #miabbook    ': 1,\n",
       "         ' @user the source of #inspiration my ideal #my #lyf my #baba ....  fathers days!!!': 1,\n",
       "         ' @user congrats to the thomas on your new #beautiful home in tehaleh! welcome to the lennar family!   #homeowner ': 1,\n",
       "         'i miss the days when my friends played xbox :(  ': 1,\n",
       "         'new case and scraggly hair.  ! ': 1,\n",
       "         \"@user loving our dincwear! mum's da word @user for straight up '16 on saturday   #brickingit\": 1,\n",
       "         '  bihday sexy girl girls on top of boys naked  ': 1,\n",
       "         \"@user he's the only one where the majority of fans like him, salty gsw fans just needed someone to be   about\": 1,\n",
       "         '@user changing on a daily basis!-14weeks until handover!!   @user network team in soon then av! ': 1,\n",
       "         '@user when is this coming to singapore!  ': 1,\n",
       "         'sma baby socks gbp 19.00 get here:  #shop #cool   #home #fun ': 1,\n",
       "         'i liked a @user video from @user  #sjw retard wants more !': 1,\n",
       "         ' @user so woh the wait! @user #doubledown my wife @user is   @user #veganbeerfest #vegan ': 1,\n",
       "         '@user lmfao deadass?? ð\\x9f\\x98¹  ': 1,\n",
       "         'what an amazing interview.   #bjmckenzie #born2win #bjmuzic ': 1,\n",
       "         'boasty tuesday last night boom boom and harry hype say get   ': 1,\n",
       "         '  bihday balayya even at that age mass look,craze in fans,on screen romance..he is a legend #jaibalayya': 1,\n",
       "         'woohoo   #kingslanding #highlandreserve #house #family #building #ourhomeâ\\x80¦ ': 1,\n",
       "         'outlining my themes for my would-be poems haha  ': 1,\n",
       "         '#decors   buffalo simulation: buffalo for you to take in the vicinity of their homes to do. in this way, you ': 2,\n",
       "         'sold! one of two paintings that are going to get a beautiful new home this week.   #soldâ\\x80¦ ': 1,\n",
       "         '@user msg of #hope for #newyear: a business to end . #endof2016 #tedtalks #tedatibm @user  @user': 1,\n",
       "         ':( why does @user slag off children? i love your show but......really?  @user  ': 1,\n",
       "         \"safe to say i'm missing #marbs sitting at home on your own watching #euro2016 listening to the rain is #depressing #bringbackhappiness  \": 1,\n",
       "         'they have been brainwashed by the left who is allowing these terrorist to come into america to kill them. ': 1,\n",
       "         'gd morning ð\\x9f\\x98\\x8dð\\x9f\\x98\\x8dð\\x9f\\x98\\x98ð\\x9f\\x98\\x98 #gdragon #gd #kwonjiyong #jiyong #vip #bigbang #handsome #cute   #loveâ\\x80¦ ': 1,\n",
       "         '  friendszxc ð\\x9f\\x92\\x9c ð\\x9f\\x98\\x81ð\\x9f\\x98\\x81ð\\x9f\\x98\\x81 ': 1,\n",
       "         '4 more days till vacation!   ð\\x9f\\x99\\x88â\\x9d¤ï¸\\x8fð\\x9f\\x98\\x8d': 1,\n",
       "         '  the secret of a happy marriage is all about finding other people less attractive: and those who repo... ': 1,\n",
       "         'python27 and concurrency are not best friends,   all the code i have 2 restructure to get concurrency with celery #developers #python': 1,\n",
       "         '#womenareamazing we think so! #induoevents - - - -  #superwomen #follow #dowhatyoulove  â\\x80¦ ': 1,\n",
       "         'hairy pussy redtube   hardcore tracks  ': 1,\n",
       "         'let the season 4 binge begin ð\\x9f\\x92\\x86ð\\x9f\\x8f» #oitnb #myfavorite #season4   #weekendplans ': 1,\n",
       "         'rest in peace ð\\x9f\\x92\\x94 #christinagrimmie   #loss #rip #missed #fan #foreverinourheas ': 1,\n",
       "         '\"a picture is woh a thousand words.\" #sundayrewind #hongkong #travel   #lady #lawyerâ\\x80¦ ': 1,\n",
       "         'relax !!! ð\\x9f\\x8c¤ð\\x9f\\x8c¤ð\\x9f\\x8c¤ #ingers #followme #follow #follow4follow #beach #pool   #relax #enjoy #coupleâ\\x80¦ ': 1,\n",
       "         ' @user countdown has begun#family#freeevent#festival# enteainment #food#stalls ': 1,\n",
       "         ' #awesome beginner #gopro #mounts super   to use!!! ': 1,\n",
       "         \"dear istore  , please don't crash down due to heavy overload on 17-19 #booktime #muchlove     â\\x9d¤â\\x9d¤â\\x9d¤\": 1,\n",
       "         'never underestimate the power of a good book, good wine, good food, and a great patio.   #summerevening #patioweather': 1,\n",
       "         'istg this is the best cheese ta but dayum expensive ': 1,\n",
       "         'my morning (office) routine will never be the same without my bff   #imy  ': 1,\n",
       "         '#theshallows weak attempt to cash in on the jaws anniversary  ': 1,\n",
       "         '@user non stop election  i blame #cspan for hiding  for 8 years 2016 pittsburgh california ': 1,\n",
       "         'weâ\\x80\\x99re extremely   to reveal the first #official #poster for #poalorigins [pa 2], coming this #summer. moâ\\x80¦ ': 1,\n",
       "         '16 minutes and counting.... #wwdc #wwdc2016  ': 1,\n",
       "         '@user @user he \"has to play ball\" now! the   state of our politics! it\\'s now all a facade, as we\\'ve lost principality!': 1,\n",
       "         \"it's a great day to just be nothing but happyð\\x9f\\x98\\x8að\\x9f\\x92\\x9eð\\x9f\\x99\\x8c  #blessed#thankful\": 1,\n",
       "         'have a happy sunday everyone!!!â\\x9c\\x8cï¸\\x8fð\\x9f\\x92\\x96â\\x9c\\x8cð\\x9f\\x92\\x96   #sundaymorning #sunday #peace #love': 1,\n",
       "         \"i always help others. never myself. because other people matter and i clearly don't.   #quotes #latenights \": 1,\n",
       "         '  ! my bihday weekend ! even better ! xx ': 1,\n",
       "         'stay strong ð\\x9f\\x92\\x8b #selflove #love #iloveme #quote #quotes #quoteoftheday   #happiness #life #wisdom #wordsofwisdom ': 1,\n",
       "         \"happy father's day..   #boys #father #sweet #love #memory @user \": 1,\n",
       "         '#life is most #impoant for #human #spirit #truth #love #give b   #spirituality #thinkbigsundaywithmarshað\\x9f\\x92\\x93ð\\x9f\\x99\\x8fð\\x9f\\x98\\x87 ': 1,\n",
       "         \"to the father of my babies, i love u. happiest of father's days!    #father via  \": 1,\n",
       "         \" @user current mood:   about @user 's web developer meet &amp; hire on 6/22.  \": 1,\n",
       "         \"you know you're getting old when you sta to get 'turned on' looking at poweools in b&amp;q  \": 1,\n",
       "         're: 50 projects 2016---busy hands are happy hands!   ': 1,\n",
       "         ' @user bride: a woman with a fine prospect of happiness behind her. â\\x80\\x94ambrose bierce #wedding   #love ': 1,\n",
       "         '   #friday  xoxosamantha  via  ': 1,\n",
       "         '@user stop robbing innocent customers of their hard earned aiime which you guys have no idea on how dey managed to recharge... ': 1,\n",
       "         \"grab your bestie &amp; swing by for  hour ~ we've missed you.   #fun  #eatâ\\x80¦ \": 1,\n",
       "         ' is not an #opinion. racism is #degrading people based on race to justify #discrimination or open #violence against them. #stopracism': 1,\n",
       "         'finally moving today ð\\x9f\\x98\\xadð\\x9f\\x99\\x8fð\\x9f\\x8f½ ': 1,\n",
       "         \" @user @user and @user i'm on my way..... can we say     #blogger #vloggerâ\\x80¦ \": 1,\n",
       "         '@user @user yay! fantastic   for #edinburgh': 1,\n",
       "         'lemme find out i have to put on my boiler in the month of june.  ': 1,\n",
       "         'my hea goes out to the families of those 50 people killed in the massacre in orlando.    ': 1,\n",
       "         'pre @user gig drinks! ð\\x9f\\x98\\x8e  #passthecourvoisier ð\\x9f\\x8d¸@user ': 1,\n",
       "         'so we rescued a pup... meet rexy ð\\x9f\\x90¶â\\x99¡ #rescuepup #rexy #pupsofsg #suicidegirls #beautiful #puppylove   ': 1,\n",
       "         'these videos will get you excited for the futureâ\\x80¦  #tech #augmented   #future #mobile ': 2,\n",
       "         ' @user congrats ð\\x9f\\x98\\x84 ur wish come true working with @user ð\\x9f\\x98\\x8a superxcited for the songs ð\\x9f\\x98\\x84ð\\x9f\\x99\\x8câ\\x9d¤ð\\x9f\\x98\\x8d  ': 1,\n",
       "         'we wish it were!   ': 1,\n",
       "         'â\\x98\\x80ï¸\\x8f#hellosunday i hope you all have a #beautiful   #sunday :) #sundayfunday sunnday!!ð\\x9f\\x92\\x8b ': 1,\n",
       "         \"i once did that gif..did't listen to this song since ages..  \": 1,\n",
       "         ' â\\x86\\x9d #nzd/usd rises to 0.7040, eyeing gdt price index and fomc statement   #blog #silver #gold #forex': 1,\n",
       "         'how true! home-food is considered a cheap-meal. impressions are made at restaurants!!!   ': 1,\n",
       "         \"happy bihday to one of the west's greatest!!  tupac shakur ð\\x9f\\x91\\x91ð\\x9f\\x8e¤   #bihday #rip #tupacâ\\x80¦ \": 1,\n",
       "         ' @user live your life....  ': 1,\n",
       "         '29hrs to goð\\x9f\\x98\\x89 #fl #motionposter to be revealed #mupparimanam feeling   #nervous ð\\x9f\\x98\\x80ð\\x9f\\x91\\x8dð\\x9f\\x8f»ð\\x9f\\x98\\x8a stay tuned ': 1,\n",
       "         '@user i had a little taste it was   for sure! ': 1,\n",
       "         'appletstag #compleanno #toa #cake #family  bday #selfie #me #smile #girl  #summerâ\\x80¦ ': 1,\n",
       "         '#anime  #anime-a  -tree-friends #tags: #anime, #fana, pixiv, happy tree ... ': 1,\n",
       "         ' @user happy 2nd wedding anniversary to my amazing husband @user ð\\x9f\\x8d¾ð\\x9f\\x8e\\x89ð\\x9f\\x92\\x95ð\\x9f\\x91°ð\\x9f\\x8f¼ð\\x9f\\x8e© #memories #2years #lotstocome   #love ': 1,\n",
       "         'after a slow sta, i had a productive day! getting back into a routine after a bout of fatigue and flareup is hard! #spoonieproblems  ': 1,\n",
       "         \"i love ramdan and fasting,i love the iftar's feeling and i love the way i feel during ramadan with praying and reading quran #blessed\": 1,\n",
       "         ' â\\x86\\x9d #eur/gbp subdued trading action around 0.7930   #blog #silver #gold #forex': 1,\n",
       "         '  ð\\x9f\\x98\\x8a with @user #ngitingtagumpay ': 1,\n",
       "         \"it's an unusual cloudy day. election day and picnic with friends!   sunday to everyone! ó¾\\x93\\x94ó¾\\x94\\x9b #welcomeludovica... \": 1,\n",
       "         '#cloudchaser   gorilla simulator: you need to do to adapt to the environment. the need to tear the city. mat ': 1,\n",
       "         'christ is alive in you. #vlicobs #xoxo #love #grace   #amen #share #passion #church #lifeâ\\x80¦ ': 1,\n",
       "         \"  wants leak of udta punjab probed, suspects 'political ... #jobs #jobsearch #: #chandigarh: makers of udt... \": 1,\n",
       "         'yesterday @ ozen ð\\x9f\\x99\\x83  #restaurant   #eatallyoucan ': 1,\n",
       "         \"i can already tell that next week's episode is gonna give me intense anxiety!!!! #nervous    #gameofthrones \": 1,\n",
       "         \"you've got nothing to say, so you assume that?! ahahahahahah \": 1,\n",
       "         \"i'm just an ordinary girl #intruduceyourself  !ð\\x9f\\x98\\x8að\\x9f\\x98\\x8a\": 1,\n",
       "         ' @user may lights triumph over darkness. may this ramadan bring peace, harmony and joy.   #ramadan! #ramadankareem ': 1,\n",
       "         '@user @user any1 else notice most of the \"suppoers\" r pageant girls w.years to internalize a female oppressive system? ': 1,\n",
       "         ' @user 4 reasons that optimists rule the world    #success #growth #balance #optimism ': 1,\n",
       "         \"i hate online applications because you don't even get your foot in the door before they tell you no, we don't need you.  \": 1,\n",
       "         'i am thankful for flowers. #thankful #positive     ': 1,\n",
       "         \"to top off my crappy day w/me not signing papers for my house, @user pop up conce 4 blocks from work &amp; i didn't know. :(  \": 1,\n",
       "         'beautiful (: i love living at the beach!!!! #beach #loveit   ': 1,\n",
       "         ' @user omg bitch ð\\x9f\\x98\\x82ð\\x9f\\x98\\x8dð\\x9f\\x98\\x8dð\\x9f\\x98\\x8d i knew you was gone do lil kim .. actually look like a music video  ': 1,\n",
       "         '#tgif   #ff to my #gamedev #indiedev #indiegamedev #squad! @user @user @user @user': 1,\n",
       "         '@user @user @user  man i even have a bunch of coupons too..... ': 1,\n",
       "         'way to sta the day #goodmorning   ': 1,\n",
       "         'lking forward 2 our watering holes, watchtowers,  foresses.. @user @user @user   ': 1,\n",
       "         '@user #allahsoil the next best seller book! #isis #islam #2016in4worlds #2016in4words #terrorists #gwot â\\x80¦ ': 1,\n",
       "         'this a a fantastic rub for steak #yum #thespicesndteaexchange #dc   #healthyâ\\x80¦ ': 1,\n",
       "         '  #followme touch my tits -  ': 1,\n",
       "         'feels like summer ð\\x9f\\x8c´ð\\x9f\\x8d\\x89ð\\x9f\\x91\\x99   #love #like #live #life #enjoy #healthy #sun #tan #bikini #summerâ\\x80¦ ': 1,\n",
       "         \"#teenageson reckons that he's gone 'beyond the call of duty' with my #fathersday prezzie    ð\\x9f\\x98\\x8d\": 1,\n",
       "         \"@user don't forget, @user - research shows that sexist men have psychological problems. #tuckercarlson \": 1,\n",
       "         'nice! any specific pedagogical changes? ð\\x9f\\x98¬ ': 1,\n",
       "         '@user typical city fan  ': 1,\n",
       "         '\"no im not attracted to asian ppl bc im not asian\"  what if i tell you no im not attracted to u bc im not (inse race here) hoe   ': 1,\n",
       "         '@user awlrite  mol? jealous? better than being at cricket pitch all my life   #getalife': 1,\n",
       "         'prayers go out to eddie and his family ': 1,\n",
       "         '#nothappy   my carer is finishing in one week :*(': 1,\n",
       "         '#closeencounters of the #fatkind #fatkid #dese #sick   #tired #maybemono ': 1,\n",
       "         '#gymmorgon #gym #morning #strength   #energy #training @ wingym ': 1,\n",
       "         'glad it all arrived safely @user ! ': 1,\n",
       "         'who defines ?: historically #oppressed or historic #oppressors/#privileged': 1,\n",
       "         'are you really   or just pretending to be?  #truthseekers #empowerment #selfimprovement #healing #ihearadio': 1,\n",
       "         'i finally found a way how to delete old tweets! you might find it useful as well:    #deletetweets': 2,\n",
       "         ' @user what a #view #oregon   #poland #usa #unitedstates   #holiday #dj #producer #houseâ\\x80¦ ': 1,\n",
       "         'have you put in your #vote yet? if you havent, do it and #share so we can see what makes #you #smile. #poll   ': 1,\n",
       "         ' @user next chapter in life stas soon, looking at a house today with my fiancÃ© â\\x9d¤ï¸\\x8fð\\x9f\\x98\\x80ð\\x9f\\x8f\\xa0ð\\x9f\\x91\\x8dð\\x9f\\x8f»   ': 1,\n",
       "         'just booked our trip to europeð\\x9f\\x91\\x8fð\\x9f\\x8f»â\\x9c\\x88ï¸\\x8f @user @user   #travelwise #europe2016 #london #paris': 1,\n",
       "         'i am thankful for oxygen. #thankful #positive     ': 1,\n",
       "         'the latest the volatile daily!  thanks to @user @user @user  #space': 1,\n",
       "         'someone explain why @user  is being so moody  ': 1,\n",
       "         'very   and worrying!  ': 1,\n",
       "         'today is national #smile power day!  show those #pearly whites to someone deserving and make their day a   one! ': 1,\n",
       "         '@user radicalism shouldn\\'t be countered with . terrorists see us as inhumans, but we \"the free\" can\\'t judge by color,â\\x80¦': 1,\n",
       "         '@user great appreciations frm everyone for u performance soo happy sirð\\x9f\\x99\\x8cð\\x9f\\x98\\x8a11 hrs to go for me to watch the film   #gentleman ð\\x9f\\x98\\x8að\\x9f\\x98\\x8a': 1,\n",
       "         \"cuddling with my baby....it's all about having fun!!!!! #love  â\\x80¦ \": 1,\n",
       "         \"it's the end of an era. amazon finally took down the final fantasy versus xiii entry in their database.   \": 1,\n",
       "         ' @user a lot of pakistani twitter folk make out like they are totally liberal &amp; open minded... and having any so of deen imaaâ\\x80¦': 1,\n",
       "         'little anya is having fun waiting for the 28 milers to arrive for their ride.   #2016neotour ': 1,\n",
       "         '  daddy days to @user @user ': 1,\n",
       "         ' @user sad to be leaving our first house today but looking forward to making memories in the new house with @user #movinghouâ\\x80¦': 1,\n",
       "         'i tend to expose my moods through aists name or song titles   #music': 1,\n",
       "         'friday bbq @ surf riders hostel (fueeventura) #barbeque #hostel #summer #surf #kitesurf #wave  #fun#holiday ': 1,\n",
       "         '@user #cnnelection @user what? nice parroting of @user \"racist\" talking points repoed last night. #onpoint  ': 1,\n",
       "         'more stuff #crazy #fashion #fun   #color #gowns #fashiondesign #design #illustrationâ\\x80¦ ': 1,\n",
       "         \"don't give in to depression. get busy with any positive movement that puts you in a good mood   #fitness #fresh \": 1,\n",
       "         \"where's his other half??? i want to indulge myself with a lot of yunho esp him dancing keep you head up today!   â\\x9d¤ï¸\\x8fð\\x9f\\x90»ð\\x9f\\x8d\\x93\": 1,\n",
       "         'tried for the same lateral move at the same institution 2 years in a row and failed. lol. 2-3 years experience required. i have 9. ð\\x9f\\x92\\x80  ': 1,\n",
       "         'for the fact that you keep watching,  makes it more interesting ': 1,\n",
       "         'like this sis regrann from fffwithjanelle  -  #liberated  â\\x80¦ ': 1,\n",
       "         ...})"
      ]
     },
     "execution_count": 86,
     "metadata": {},
     "output_type": "execute_result"
    }
   ],
   "source": [
    "c"
   ]
  },
  {
   "cell_type": "code",
   "execution_count": 87,
   "id": "8d9593da",
   "metadata": {},
   "outputs": [],
   "source": [
    "from sklearn.svm import SVC"
   ]
  },
  {
   "cell_type": "code",
   "execution_count": 88,
   "id": "6df66b37",
   "metadata": {},
   "outputs": [],
   "source": [
    "classifier = SVC(kernel = 'linear', random_state = 0)"
   ]
  },
  {
   "cell_type": "code",
   "execution_count": 89,
   "id": "5f5915b1",
   "metadata": {},
   "outputs": [
    {
     "data": {
      "text/plain": [
       "SVC(kernel='linear', random_state=0)"
      ]
     },
     "execution_count": 89,
     "metadata": {},
     "output_type": "execute_result"
    }
   ],
   "source": [
    "classifier.fit(X_train_vect, y_train)"
   ]
  },
  {
   "cell_type": "code",
   "execution_count": 90,
   "id": "aeff4b69",
   "metadata": {},
   "outputs": [],
   "source": [
    "y_pred = classifier.predict(X_test_vect)"
   ]
  },
  {
   "cell_type": "code",
   "execution_count": 91,
   "id": "7221565f",
   "metadata": {},
   "outputs": [],
   "source": [
    "from sklearn.metrics import confusion_matrix\n"
   ]
  },
  {
   "cell_type": "code",
   "execution_count": 92,
   "id": "a37e9163",
   "metadata": {},
   "outputs": [
    {
     "name": "stdout",
     "output_type": "stream",
     "text": [
      "Confusion Matrix: \n",
      " [[378   3]\n",
      " [ 29   6]]\n"
     ]
    }
   ],
   "source": [
    "print('Confusion Matrix: \\n', confusion_matrix(y_test, y_pred))"
   ]
  },
  {
   "cell_type": "code",
   "execution_count": 93,
   "id": "eab88abe",
   "metadata": {},
   "outputs": [
    {
     "data": {
      "text/plain": [
       "Text(324.78000000000003, 0.5, 'predicted label')"
      ]
     },
     "execution_count": 93,
     "metadata": {},
     "output_type": "execute_result"
    },
    {
     "data": {
      "image/png": "[encoded data removed]",
      "text/plain": [
       "<Figure size 1152x648 with 1 Axes>"
      ]
     },
     "metadata": {
      "needs_background": "light"
     },
     "output_type": "display_data"
    }
   ],
   "source": [
    "import seaborn as sns\n",
    "import matplotlib.pyplot as plt\n",
    "plt.figure(figsize = (16,9))\n",
    "mat = confusion_matrix(y_test, y_pred)\n",
    "sns.heatmap(mat.T, square = True, annot = True, fmt = 'd', cbar=False)\n",
    "plt.xlabel('true label')\n",
    "plt.ylabel('predicted label')"
   ]
  },
  {
   "cell_type": "code",
   "execution_count": 94,
   "id": "b66c8102",
   "metadata": {},
   "outputs": [],
   "source": [
    "from sklearn.metrics import accuracy_score"
   ]
  },
  {
   "cell_type": "code",
   "execution_count": 95,
   "id": "261be16a",
   "metadata": {},
   "outputs": [
    {
     "data": {
      "text/plain": [
       "92.3076923076923"
      ]
     },
     "execution_count": 95,
     "metadata": {},
     "output_type": "execute_result"
    }
   ],
   "source": [
    "accuracy_score(y_test, y_pred)*100"
   ]
  },
  {
   "cell_type": "code",
   "execution_count": 96,
   "id": "ef94228d",
   "metadata": {},
   "outputs": [],
   "source": [
    "from sklearn.metrics import classification_report"
   ]
  },
  {
   "cell_type": "code",
   "execution_count": 97,
   "id": "f3f852e1",
   "metadata": {},
   "outputs": [
    {
     "name": "stdout",
     "output_type": "stream",
     "text": [
      "\n",
      "SVM Linear Kernel Classification Report:\n",
      "               precision    recall  f1-score   support\n",
      "\n",
      "           0       0.93      0.99      0.96       381\n",
      "           1       0.67      0.17      0.27        35\n",
      "\n",
      "    accuracy                           0.92       416\n",
      "   macro avg       0.80      0.58      0.62       416\n",
      "weighted avg       0.91      0.92      0.90       416\n",
      "\n"
     ]
    }
   ],
   "source": [
    "print('\\nSVM Linear Kernel Classification Report:\\n', classification_report(y_test, y_pred))"
   ]
  },
  {
   "cell_type": "markdown",
   "id": "576a189c",
   "metadata": {},
   "source": [
    "# -------------------------"
   ]
  },
  {
   "cell_type": "code",
   "execution_count": 98,
   "id": "dbccab89",
   "metadata": {},
   "outputs": [],
   "source": [
    "classifier = SVC(kernel = 'rbf', random_state = 0)"
   ]
  },
  {
   "cell_type": "code",
   "execution_count": 99,
   "id": "d2497cef",
   "metadata": {},
   "outputs": [
    {
     "data": {
      "text/plain": [
       "SVC(random_state=0)"
      ]
     },
     "execution_count": 99,
     "metadata": {},
     "output_type": "execute_result"
    }
   ],
   "source": [
    "classifier.fit(X_train_vect, y_train)"
   ]
  },
  {
   "cell_type": "code",
   "execution_count": 100,
   "id": "d54fe8b6",
   "metadata": {},
   "outputs": [],
   "source": [
    "y_pred = classifier.predict(X_test_vect)"
   ]
  },
  {
   "cell_type": "code",
   "execution_count": 101,
   "id": "bdaf3fd6",
   "metadata": {},
   "outputs": [],
   "source": [
    "from sklearn.metrics import confusion_matrix"
   ]
  },
  {
   "cell_type": "code",
   "execution_count": 102,
   "id": "010876df",
   "metadata": {},
   "outputs": [
    {
     "name": "stdout",
     "output_type": "stream",
     "text": [
      "Confusion Matrix: \n",
      " [[381   0]\n",
      " [ 35   0]]\n"
     ]
    }
   ],
   "source": [
    "print('Confusion Matrix: \\n', confusion_matrix(y_test, y_pred))"
   ]
  },
  {
   "cell_type": "code",
   "execution_count": 103,
   "id": "7e3742cd",
   "metadata": {},
   "outputs": [
    {
     "data": {
      "text/plain": [
       "array([[381,   0],\n",
       "       [ 35,   0]], dtype=int64)"
      ]
     },
     "execution_count": 103,
     "metadata": {},
     "output_type": "execute_result"
    }
   ],
   "source": [
    "confusion_matrix(y_test, y_pred)"
   ]
  },
  {
   "cell_type": "code",
   "execution_count": 104,
   "id": "b1a1c0ad",
   "metadata": {},
   "outputs": [
    {
     "data": {
      "text/plain": [
       "Text(324.78000000000003, 0.5, 'predicted label')"
      ]
     },
     "execution_count": 104,
     "metadata": {},
     "output_type": "execute_result"
    },
    {
     "data": {
      "image/png": "[encoded data removed]",
      "text/plain": [
       "<Figure size 1152x648 with 1 Axes>"
      ]
     },
     "metadata": {
      "needs_background": "light"
     },
     "output_type": "display_data"
    }
   ],
   "source": [
    "import seaborn as sns\n",
    "import matplotlib.pyplot as plt\n",
    "plt.figure(figsize = (16,9))\n",
    "mat = confusion_matrix(y_test, y_pred)\n",
    "sns.heatmap(mat.T, square = True, annot = True, fmt = 'd', cbar=False)\n",
    "plt.xlabel('true label')\n",
    "plt.ylabel('predicted label')"
   ]
  },
  {
   "cell_type": "code",
   "execution_count": 105,
   "id": "1b141831",
   "metadata": {},
   "outputs": [],
   "source": [
    "from sklearn.metrics import accuracy_score"
   ]
  },
  {
   "cell_type": "code",
   "execution_count": 106,
   "id": "6f269111",
   "metadata": {},
   "outputs": [
    {
     "data": {
      "text/plain": [
       "91.58653846153845"
      ]
     },
     "execution_count": 106,
     "metadata": {},
     "output_type": "execute_result"
    }
   ],
   "source": [
    "accuracy_score(y_test, y_pred)*100"
   ]
  },
  {
   "cell_type": "code",
   "execution_count": 107,
   "id": "3abbcaab",
   "metadata": {},
   "outputs": [],
   "source": [
    "from sklearn.metrics import classification_report"
   ]
  },
  {
   "cell_type": "code",
   "execution_count": 108,
   "id": "50ae8f3a",
   "metadata": {},
   "outputs": [
    {
     "name": "stdout",
     "output_type": "stream",
     "text": [
      "\n",
      "SVM Radial Kernel Classification Report:\n",
      "               precision    recall  f1-score   support\n",
      "\n",
      "           0       0.92      1.00      0.96       381\n",
      "           1       0.00      0.00      0.00        35\n",
      "\n",
      "    accuracy                           0.92       416\n",
      "   macro avg       0.46      0.50      0.48       416\n",
      "weighted avg       0.84      0.92      0.88       416\n",
      "\n"
     ]
    },
    {
     "name": "stderr",
     "output_type": "stream",
     "text": [
      "C:\\Users\\Admin\\anaconda3\\lib\\site-packages\\sklearn\\metrics\\_classification.py:1245: UndefinedMetricWarning: Precision and F-score are ill-defined and being set to 0.0 in labels with no predicted samples. Use `zero_division` parameter to control this behavior.\n",
      "  _warn_prf(average, modifier, msg_start, len(result))\n",
      "C:\\Users\\Admin\\anaconda3\\lib\\site-packages\\sklearn\\metrics\\_classification.py:1245: UndefinedMetricWarning: Precision and F-score are ill-defined and being set to 0.0 in labels with no predicted samples. Use `zero_division` parameter to control this behavior.\n",
      "  _warn_prf(average, modifier, msg_start, len(result))\n",
      "C:\\Users\\Admin\\anaconda3\\lib\\site-packages\\sklearn\\metrics\\_classification.py:1245: UndefinedMetricWarning: Precision and F-score are ill-defined and being set to 0.0 in labels with no predicted samples. Use `zero_division` parameter to control this behavior.\n",
      "  _warn_prf(average, modifier, msg_start, len(result))\n"
     ]
    }
   ],
   "source": [
    "print('\\nSVM Radial Kernel Classification Report:\\n', classification_report(y_test, y_pred))"
   ]
  },
  {
   "cell_type": "markdown",
   "id": "7f6293b0",
   "metadata": {},
   "source": [
    "# ------------------------"
   ]
  },
  {
   "cell_type": "code",
   "execution_count": 109,
   "id": "bbf6e741",
   "metadata": {},
   "outputs": [],
   "source": [
    "classifier = SVC(kernel = 'poly', random_state = 0)"
   ]
  },
  {
   "cell_type": "code",
   "execution_count": 110,
   "id": "1f7e395c",
   "metadata": {},
   "outputs": [
    {
     "data": {
      "text/plain": [
       "SVC(kernel='poly', random_state=0)"
      ]
     },
     "execution_count": 110,
     "metadata": {},
     "output_type": "execute_result"
    }
   ],
   "source": [
    "classifier.fit(X_train_vect, y_train)"
   ]
  },
  {
   "cell_type": "code",
   "execution_count": 111,
   "id": "c35df835",
   "metadata": {},
   "outputs": [],
   "source": [
    "y_pred = classifier.predict(X_test_vect)"
   ]
  },
  {
   "cell_type": "code",
   "execution_count": 112,
   "id": "f0448e5b",
   "metadata": {},
   "outputs": [],
   "source": [
    "from sklearn.metrics import confusion_matrix"
   ]
  },
  {
   "cell_type": "code",
   "execution_count": 113,
   "id": "4f21bf0b",
   "metadata": {},
   "outputs": [
    {
     "name": "stdout",
     "output_type": "stream",
     "text": [
      "Confusion Matrix: \n",
      " [[381   0]\n",
      " [ 35   0]]\n"
     ]
    }
   ],
   "source": [
    "print('Confusion Matrix: \\n', confusion_matrix(y_test, y_pred))"
   ]
  },
  {
   "cell_type": "code",
   "execution_count": 114,
   "id": "64d2c98f",
   "metadata": {},
   "outputs": [
    {
     "data": {
      "text/plain": [
       "array([[381,   0],\n",
       "       [ 35,   0]], dtype=int64)"
      ]
     },
     "execution_count": 114,
     "metadata": {},
     "output_type": "execute_result"
    }
   ],
   "source": [
    "confusion_matrix(y_test, y_pred)"
   ]
  },
  {
   "cell_type": "code",
   "execution_count": 115,
   "id": "565deb9a",
   "metadata": {},
   "outputs": [
    {
     "data": {
      "text/plain": [
       "Text(324.78000000000003, 0.5, 'predicted label')"
      ]
     },
     "execution_count": 115,
     "metadata": {},
     "output_type": "execute_result"
    },
    {
     "data": {
      "image/png": "[encoded data removed]",
      "text/plain": [
       "<Figure size 1152x648 with 1 Axes>"
      ]
     },
     "metadata": {
      "needs_background": "light"
     },
     "output_type": "display_data"
    }
   ],
   "source": [
    "import seaborn as sns\n",
    "import matplotlib.pyplot as plt\n",
    "plt.figure(figsize = (16,9))\n",
    "mat = confusion_matrix(y_test, y_pred)\n",
    "sns.heatmap(mat.T, square = True, annot = True, fmt = 'd', cbar=False)\n",
    "plt.xlabel('true label')\n",
    "plt.ylabel('predicted label')"
   ]
  },
  {
   "cell_type": "code",
   "execution_count": 116,
   "id": "45f59911",
   "metadata": {},
   "outputs": [],
   "source": [
    "from sklearn.metrics import accuracy_score"
   ]
  },
  {
   "cell_type": "code",
   "execution_count": 117,
   "id": "859fc482",
   "metadata": {},
   "outputs": [
    {
     "data": {
      "text/plain": [
       "91.58653846153845"
      ]
     },
     "execution_count": 117,
     "metadata": {},
     "output_type": "execute_result"
    }
   ],
   "source": [
    "accuracy_score(y_test, y_pred)*100"
   ]
  },
  {
   "cell_type": "code",
   "execution_count": 118,
   "id": "0b6630cc",
   "metadata": {},
   "outputs": [],
   "source": [
    "from sklearn.metrics import classification_report"
   ]
  },
  {
   "cell_type": "code",
   "execution_count": 119,
   "id": "bfa30584",
   "metadata": {},
   "outputs": [
    {
     "name": "stdout",
     "output_type": "stream",
     "text": [
      "\n",
      "SVM Polynomial Kernel Classification Report:\n",
      "               precision    recall  f1-score   support\n",
      "\n",
      "           0       0.92      1.00      0.96       381\n",
      "           1       0.00      0.00      0.00        35\n",
      "\n",
      "    accuracy                           0.92       416\n",
      "   macro avg       0.46      0.50      0.48       416\n",
      "weighted avg       0.84      0.92      0.88       416\n",
      "\n"
     ]
    },
    {
     "name": "stderr",
     "output_type": "stream",
     "text": [
      "C:\\Users\\Admin\\anaconda3\\lib\\site-packages\\sklearn\\metrics\\_classification.py:1245: UndefinedMetricWarning: Precision and F-score are ill-defined and being set to 0.0 in labels with no predicted samples. Use `zero_division` parameter to control this behavior.\n",
      "  _warn_prf(average, modifier, msg_start, len(result))\n",
      "C:\\Users\\Admin\\anaconda3\\lib\\site-packages\\sklearn\\metrics\\_classification.py:1245: UndefinedMetricWarning: Precision and F-score are ill-defined and being set to 0.0 in labels with no predicted samples. Use `zero_division` parameter to control this behavior.\n",
      "  _warn_prf(average, modifier, msg_start, len(result))\n",
      "C:\\Users\\Admin\\anaconda3\\lib\\site-packages\\sklearn\\metrics\\_classification.py:1245: UndefinedMetricWarning: Precision and F-score are ill-defined and being set to 0.0 in labels with no predicted samples. Use `zero_division` parameter to control this behavior.\n",
      "  _warn_prf(average, modifier, msg_start, len(result))\n"
     ]
    }
   ],
   "source": [
    "print('\\nSVM Polynomial Kernel Classification Report:\\n', classification_report(y_test, y_pred))"
   ]
  },
  {
   "cell_type": "code",
   "execution_count": 120,
   "id": "f2131c55",
   "metadata": {},
   "outputs": [
    {
     "data": {
      "text/plain": [
       "array([[50.        ,  6.        ,  0.07835413, ...,  0.        ,\n",
       "         0.        ,  0.        ]])"
      ]
     },
     "execution_count": 120,
     "metadata": {},
     "output_type": "execute_result"
    }
   ],
   "source": [
    "new = X_train_vect.iloc[767,:].values\n",
    "new = new.reshape(1, -1)\n",
    "new"
   ]
  },
  {
   "cell_type": "code",
   "execution_count": 121,
   "id": "76f998ad",
   "metadata": {},
   "outputs": [
    {
     "data": {
      "text/plain": [
       "0"
      ]
     },
     "execution_count": 121,
     "metadata": {},
     "output_type": "execute_result"
    }
   ],
   "source": [
    "classifier.predict(new)[0]"
   ]
  },
  {
   "cell_type": "markdown",
   "id": "c20e77ee",
   "metadata": {},
   "source": [
    "# -----------------"
   ]
  },
  {
   "cell_type": "code",
   "execution_count": 122,
   "id": "9d3b7f3c",
   "metadata": {},
   "outputs": [],
   "source": [
    "classifier = SVC(kernel = 'sigmoid', random_state = 0)"
   ]
  },
  {
   "cell_type": "code",
   "execution_count": 123,
   "id": "4bf377ed",
   "metadata": {},
   "outputs": [
    {
     "data": {
      "text/plain": [
       "SVC(kernel='sigmoid', random_state=0)"
      ]
     },
     "execution_count": 123,
     "metadata": {},
     "output_type": "execute_result"
    }
   ],
   "source": [
    "classifier.fit(X_train_vect, y_train)"
   ]
  },
  {
   "cell_type": "code",
   "execution_count": 124,
   "id": "0b9f0d21",
   "metadata": {},
   "outputs": [],
   "source": [
    "y_pred = classifier.predict(X_test_vect)"
   ]
  },
  {
   "cell_type": "code",
   "execution_count": 125,
   "id": "90e36f38",
   "metadata": {},
   "outputs": [],
   "source": [
    "from sklearn.metrics import confusion_matrix"
   ]
  },
  {
   "cell_type": "code",
   "execution_count": 126,
   "id": "48fba7e1",
   "metadata": {},
   "outputs": [
    {
     "name": "stdout",
     "output_type": "stream",
     "text": [
      "Confusion Matrix: \n",
      " [[375   6]\n",
      " [ 34   1]]\n"
     ]
    }
   ],
   "source": [
    "print('Confusion Matrix: \\n', confusion_matrix(y_test, y_pred))"
   ]
  },
  {
   "cell_type": "code",
   "execution_count": 127,
   "id": "762ddee8",
   "metadata": {},
   "outputs": [
    {
     "data": {
      "text/plain": [
       "array([[375,   6],\n",
       "       [ 34,   1]], dtype=int64)"
      ]
     },
     "execution_count": 127,
     "metadata": {},
     "output_type": "execute_result"
    }
   ],
   "source": [
    "confusion_matrix(y_test, y_pred)"
   ]
  },
  {
   "cell_type": "code",
   "execution_count": 128,
   "id": "4a99502f",
   "metadata": {},
   "outputs": [
    {
     "data": {
      "text/plain": [
       "Text(324.78000000000003, 0.5, 'predicted label')"
      ]
     },
     "execution_count": 128,
     "metadata": {},
     "output_type": "execute_result"
    },
    {
     "data": {
      "image/png": "[encoded data removed]",
      "text/plain": [
       "<Figure size 1152x648 with 1 Axes>"
      ]
     },
     "metadata": {
      "needs_background": "light"
     },
     "output_type": "display_data"
    }
   ],
   "source": [
    "import seaborn as sns\n",
    "import matplotlib.pyplot as plt\n",
    "plt.figure(figsize = (16,9))\n",
    "mat = confusion_matrix(y_test, y_pred)\n",
    "sns.heatmap(mat.T, square = True, annot = True, fmt = 'd', cbar=False)\n",
    "plt.xlabel('true label')\n",
    "plt.ylabel('predicted label')"
   ]
  },
  {
   "cell_type": "code",
   "execution_count": 129,
   "id": "ab602bf6",
   "metadata": {},
   "outputs": [],
   "source": [
    "from sklearn.metrics import accuracy_score"
   ]
  },
  {
   "cell_type": "code",
   "execution_count": 130,
   "id": "613fd7ce",
   "metadata": {},
   "outputs": [
    {
     "data": {
      "text/plain": [
       "90.38461538461539"
      ]
     },
     "execution_count": 130,
     "metadata": {},
     "output_type": "execute_result"
    }
   ],
   "source": [
    "accuracy_score(y_test, y_pred)*100"
   ]
  },
  {
   "cell_type": "code",
   "execution_count": 131,
   "id": "52b5d81b",
   "metadata": {},
   "outputs": [],
   "source": [
    "from sklearn.metrics import classification_report"
   ]
  },
  {
   "cell_type": "code",
   "execution_count": 132,
   "id": "6b3c2e8b",
   "metadata": {},
   "outputs": [
    {
     "name": "stdout",
     "output_type": "stream",
     "text": [
      "\n",
      "SVM Sigmoid Kernel Classification Report:\n",
      "               precision    recall  f1-score   support\n",
      "\n",
      "           0       0.92      0.98      0.95       381\n",
      "           1       0.14      0.03      0.05        35\n",
      "\n",
      "    accuracy                           0.90       416\n",
      "   macro avg       0.53      0.51      0.50       416\n",
      "weighted avg       0.85      0.90      0.87       416\n",
      "\n"
     ]
    }
   ],
   "source": [
    "print('\\nSVM Sigmoid Kernel Classification Report:\\n', classification_report(y_test, y_pred))"
   ]
  },
  {
   "cell_type": "code",
   "execution_count": null,
   "id": "1ae41984",
   "metadata": {},
   "outputs": [],
   "source": []
  },
  {
   "cell_type": "code",
   "execution_count": null,
   "id": "6d33de21",
   "metadata": {},
   "outputs": [],
   "source": []
  }
 ],
 "metadata": {
  "kernelspec": {
   "display_name": "Python 3",
   "language": "python",
   "name": "python3"
  },
  "language_info": {
   "codemirror_mode": {
    "name": "ipython",
    "version": 3
   },
   "file_extension": ".py",
   "mimetype": "text/x-python",
   "name": "python",
   "nbconvert_exporter": "python",
   "pygments_lexer": "ipython3",
   "version": "3.8.8"
  }
 },
 "nbformat": 4,
 "nbformat_minor": 5
}
